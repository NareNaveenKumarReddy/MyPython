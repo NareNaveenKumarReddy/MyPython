{
 "cells": [
  {
   "cell_type": "code",
   "execution_count": 170,
   "metadata": {},
   "outputs": [],
   "source": [
    "import numpy as np\n",
    "import pandas as pd\n",
    "import matplotlib.pyplot as plt\n",
    "import seaborn as sns"
   ]
  },
  {
   "cell_type": "code",
   "execution_count": 264,
   "metadata": {},
   "outputs": [],
   "source": [
    "df = pd.read_csv(\"Ecommerce - UK Retailer.csv\",encoding = 'ISO-8859-1')"
   ]
  },
  {
   "cell_type": "code",
   "execution_count": 265,
   "metadata": {},
   "outputs": [
    {
     "data": {
      "text/html": [
       "<div>\n",
       "<style scoped>\n",
       "    .dataframe tbody tr th:only-of-type {\n",
       "        vertical-align: middle;\n",
       "    }\n",
       "\n",
       "    .dataframe tbody tr th {\n",
       "        vertical-align: top;\n",
       "    }\n",
       "\n",
       "    .dataframe thead th {\n",
       "        text-align: right;\n",
       "    }\n",
       "</style>\n",
       "<table border=\"1\" class=\"dataframe\">\n",
       "  <thead>\n",
       "    <tr style=\"text-align: right;\">\n",
       "      <th></th>\n",
       "      <th>InvoiceNo</th>\n",
       "      <th>StockCode</th>\n",
       "      <th>Description</th>\n",
       "      <th>Quantity</th>\n",
       "      <th>InvoiceDate</th>\n",
       "      <th>UnitPrice</th>\n",
       "      <th>CustomerID</th>\n",
       "      <th>Country</th>\n",
       "    </tr>\n",
       "  </thead>\n",
       "  <tbody>\n",
       "    <tr>\n",
       "      <th>0</th>\n",
       "      <td>536365</td>\n",
       "      <td>85123A</td>\n",
       "      <td>WHITE HANGING HEART T-LIGHT HOLDER</td>\n",
       "      <td>6</td>\n",
       "      <td>12/1/2010 8:26</td>\n",
       "      <td>2.55</td>\n",
       "      <td>17850.0</td>\n",
       "      <td>United Kingdom</td>\n",
       "    </tr>\n",
       "    <tr>\n",
       "      <th>1</th>\n",
       "      <td>536365</td>\n",
       "      <td>71053</td>\n",
       "      <td>WHITE METAL LANTERN</td>\n",
       "      <td>6</td>\n",
       "      <td>12/1/2010 8:26</td>\n",
       "      <td>3.39</td>\n",
       "      <td>17850.0</td>\n",
       "      <td>United Kingdom</td>\n",
       "    </tr>\n",
       "    <tr>\n",
       "      <th>2</th>\n",
       "      <td>536365</td>\n",
       "      <td>84406B</td>\n",
       "      <td>CREAM CUPID HEARTS COAT HANGER</td>\n",
       "      <td>8</td>\n",
       "      <td>12/1/2010 8:26</td>\n",
       "      <td>2.75</td>\n",
       "      <td>17850.0</td>\n",
       "      <td>United Kingdom</td>\n",
       "    </tr>\n",
       "    <tr>\n",
       "      <th>3</th>\n",
       "      <td>536365</td>\n",
       "      <td>84029G</td>\n",
       "      <td>KNITTED UNION FLAG HOT WATER BOTTLE</td>\n",
       "      <td>6</td>\n",
       "      <td>12/1/2010 8:26</td>\n",
       "      <td>3.39</td>\n",
       "      <td>17850.0</td>\n",
       "      <td>United Kingdom</td>\n",
       "    </tr>\n",
       "    <tr>\n",
       "      <th>4</th>\n",
       "      <td>536365</td>\n",
       "      <td>84029E</td>\n",
       "      <td>RED WOOLLY HOTTIE WHITE HEART.</td>\n",
       "      <td>6</td>\n",
       "      <td>12/1/2010 8:26</td>\n",
       "      <td>3.39</td>\n",
       "      <td>17850.0</td>\n",
       "      <td>United Kingdom</td>\n",
       "    </tr>\n",
       "  </tbody>\n",
       "</table>\n",
       "</div>"
      ],
      "text/plain": [
       "  InvoiceNo StockCode                          Description  Quantity  \\\n",
       "0    536365    85123A   WHITE HANGING HEART T-LIGHT HOLDER         6   \n",
       "1    536365     71053                  WHITE METAL LANTERN         6   \n",
       "2    536365    84406B       CREAM CUPID HEARTS COAT HANGER         8   \n",
       "3    536365    84029G  KNITTED UNION FLAG HOT WATER BOTTLE         6   \n",
       "4    536365    84029E       RED WOOLLY HOTTIE WHITE HEART.         6   \n",
       "\n",
       "      InvoiceDate  UnitPrice  CustomerID         Country  \n",
       "0  12/1/2010 8:26       2.55     17850.0  United Kingdom  \n",
       "1  12/1/2010 8:26       3.39     17850.0  United Kingdom  \n",
       "2  12/1/2010 8:26       2.75     17850.0  United Kingdom  \n",
       "3  12/1/2010 8:26       3.39     17850.0  United Kingdom  \n",
       "4  12/1/2010 8:26       3.39     17850.0  United Kingdom  "
      ]
     },
     "execution_count": 265,
     "metadata": {},
     "output_type": "execute_result"
    }
   ],
   "source": [
    "df.head()"
   ]
  },
  {
   "cell_type": "code",
   "execution_count": 266,
   "metadata": {},
   "outputs": [
    {
     "data": {
      "text/plain": [
       "(541909, 8)"
      ]
     },
     "execution_count": 266,
     "metadata": {},
     "output_type": "execute_result"
    }
   ],
   "source": [
    "df.shape"
   ]
  },
  {
   "cell_type": "code",
   "execution_count": 267,
   "metadata": {},
   "outputs": [
    {
     "data": {
      "text/html": [
       "<div>\n",
       "<style scoped>\n",
       "    .dataframe tbody tr th:only-of-type {\n",
       "        vertical-align: middle;\n",
       "    }\n",
       "\n",
       "    .dataframe tbody tr th {\n",
       "        vertical-align: top;\n",
       "    }\n",
       "\n",
       "    .dataframe thead th {\n",
       "        text-align: right;\n",
       "    }\n",
       "</style>\n",
       "<table border=\"1\" class=\"dataframe\">\n",
       "  <thead>\n",
       "    <tr style=\"text-align: right;\">\n",
       "      <th></th>\n",
       "      <th>Quantity</th>\n",
       "      <th>UnitPrice</th>\n",
       "      <th>CustomerID</th>\n",
       "    </tr>\n",
       "  </thead>\n",
       "  <tbody>\n",
       "    <tr>\n",
       "      <th>count</th>\n",
       "      <td>541909.000000</td>\n",
       "      <td>541909.000000</td>\n",
       "      <td>406829.000000</td>\n",
       "    </tr>\n",
       "    <tr>\n",
       "      <th>mean</th>\n",
       "      <td>9.552250</td>\n",
       "      <td>4.611114</td>\n",
       "      <td>15287.690570</td>\n",
       "    </tr>\n",
       "    <tr>\n",
       "      <th>std</th>\n",
       "      <td>218.081158</td>\n",
       "      <td>96.759853</td>\n",
       "      <td>1713.600303</td>\n",
       "    </tr>\n",
       "    <tr>\n",
       "      <th>min</th>\n",
       "      <td>-80995.000000</td>\n",
       "      <td>-11062.060000</td>\n",
       "      <td>12346.000000</td>\n",
       "    </tr>\n",
       "    <tr>\n",
       "      <th>25%</th>\n",
       "      <td>1.000000</td>\n",
       "      <td>1.250000</td>\n",
       "      <td>13953.000000</td>\n",
       "    </tr>\n",
       "    <tr>\n",
       "      <th>50%</th>\n",
       "      <td>3.000000</td>\n",
       "      <td>2.080000</td>\n",
       "      <td>15152.000000</td>\n",
       "    </tr>\n",
       "    <tr>\n",
       "      <th>75%</th>\n",
       "      <td>10.000000</td>\n",
       "      <td>4.130000</td>\n",
       "      <td>16791.000000</td>\n",
       "    </tr>\n",
       "    <tr>\n",
       "      <th>max</th>\n",
       "      <td>80995.000000</td>\n",
       "      <td>38970.000000</td>\n",
       "      <td>18287.000000</td>\n",
       "    </tr>\n",
       "  </tbody>\n",
       "</table>\n",
       "</div>"
      ],
      "text/plain": [
       "            Quantity      UnitPrice     CustomerID\n",
       "count  541909.000000  541909.000000  406829.000000\n",
       "mean        9.552250       4.611114   15287.690570\n",
       "std       218.081158      96.759853    1713.600303\n",
       "min    -80995.000000  -11062.060000   12346.000000\n",
       "25%         1.000000       1.250000   13953.000000\n",
       "50%         3.000000       2.080000   15152.000000\n",
       "75%        10.000000       4.130000   16791.000000\n",
       "max     80995.000000   38970.000000   18287.000000"
      ]
     },
     "execution_count": 267,
     "metadata": {},
     "output_type": "execute_result"
    }
   ],
   "source": [
    "df.describe()"
   ]
  },
  {
   "cell_type": "code",
   "execution_count": null,
   "metadata": {},
   "outputs": [],
   "source": [
    "# From above box plot, we can see there are outliers in Quantity. so lets remove and plot again\n",
    "# df.drop(df.loc[df['Quantity'] > 20000].index,inplace=True)\n",
    "# df[['UnitPrice','Quantity','CustomerID']].plot.box()"
   ]
  },
  {
   "cell_type": "markdown",
   "metadata": {},
   "source": [
    "# 1. Perform Basic EDA \n",
    "a. Boxplot – All Numeric Variables "
   ]
  },
  {
   "cell_type": "code",
   "execution_count": 157,
   "metadata": {},
   "outputs": [
    {
     "data": {
      "image/png": "[encoded data removed]",
      "text/plain": [
       "<Figure size 432x288 with 1 Axes>"
      ]
     },
     "metadata": {
      "needs_background": "light"
     },
     "output_type": "display_data"
    }
   ],
   "source": [
    "df[['UnitPrice','Quantity','CustomerID']].plot.box()\n",
    "plt.show()"
   ]
  },
  {
   "cell_type": "markdown",
   "metadata": {},
   "source": [
    "b. Histogram – All Numeric Variables "
   ]
  },
  {
   "cell_type": "code",
   "execution_count": 7,
   "metadata": {},
   "outputs": [
    {
     "data": {
      "text/plain": [
       "<matplotlib.axes._subplots.AxesSubplot at 0x271b1656bc8>"
      ]
     },
     "execution_count": 7,
     "metadata": {},
     "output_type": "execute_result"
    },
    {
     "data": {
      "image/png": "[encoded data removed]",
      "text/plain": [
       "<Figure size 1152x720 with 1 Axes>"
      ]
     },
     "metadata": {
      "needs_background": "light"
     },
     "output_type": "display_data"
    }
   ],
   "source": [
    "df[['UnitPrice','CustomerID','Quantity']].plot.hist(alpha=0.5, figsize=(16, 10))"
   ]
  },
  {
   "cell_type": "markdown",
   "metadata": {},
   "source": [
    "c. Distribution Plot – All Numeric Variables "
   ]
  },
  {
   "cell_type": "code",
   "execution_count": 8,
   "metadata": {},
   "outputs": [
    {
     "data": {
      "text/plain": [
       "<matplotlib.axes._subplots.AxesSubplot at 0x271b1f61488>"
      ]
     },
     "execution_count": 8,
     "metadata": {},
     "output_type": "execute_result"
    },
    {
     "data": {
      "image/png": "[encoded data removed]",
      "text/plain": [
       "<Figure size 432x288 with 1 Axes>"
      ]
     },
     "metadata": {
      "needs_background": "light"
     },
     "output_type": "display_data"
    }
   ],
   "source": [
    "sns.distplot(df[['UnitPrice','CustomerID','Quantity']],bins=3)"
   ]
  },
  {
   "cell_type": "markdown",
   "metadata": {},
   "source": [
    "d. Aggregation for all numerical Columns "
   ]
  },
  {
   "cell_type": "code",
   "execution_count": null,
   "metadata": {},
   "outputs": [],
   "source": [
    "df.describe()"
   ]
  },
  {
   "cell_type": "markdown",
   "metadata": {},
   "source": [
    "e. Unique Values across all columns "
   ]
  },
  {
   "cell_type": "code",
   "execution_count": 9,
   "metadata": {},
   "outputs": [
    {
     "data": {
      "text/plain": [
       "{'InvoiceNo':       InvoiceNo\n",
       " 0        536365\n",
       " 1        536366\n",
       " 2        536367\n",
       " 3        536368\n",
       " 4        536369\n",
       " ...         ...\n",
       " 25895    581583\n",
       " 25896    581584\n",
       " 25897    581585\n",
       " 25898    581586\n",
       " 25899    581587\n",
       " \n",
       " [25900 rows x 1 columns],\n",
       " 'StockCode':      StockCode\n",
       " 0       85123A\n",
       " 1        71053\n",
       " 2       84406B\n",
       " 3       84029G\n",
       " 4       84029E\n",
       " ...        ...\n",
       " 4065    85179a\n",
       " 4066     23617\n",
       " 4067    90214U\n",
       " 4068    47591b\n",
       " 4069     23843\n",
       " \n",
       " [4070 rows x 1 columns],\n",
       " 'Description':                               Description\n",
       " 0      WHITE HANGING HEART T-LIGHT HOLDER\n",
       " 1                     WHITE METAL LANTERN\n",
       " 2          CREAM CUPID HEARTS COAT HANGER\n",
       " 3     KNITTED UNION FLAG HOT WATER BOTTLE\n",
       " 4          RED WOOLLY HOTTIE WHITE HEART.\n",
       " ...                                   ...\n",
       " 4219                      ????damages????\n",
       " 4220                             mixed up\n",
       " 4221                                 lost\n",
       " 4222   CREAM HANGING HEART T-LIGHT HOLDER\n",
       " 4223          PAPER CRAFT , LITTLE BIRDIE\n",
       " \n",
       " [4224 rows x 1 columns],\n",
       " 'Quantity':      Quantity\n",
       " 0           6\n",
       " 1           8\n",
       " 2           2\n",
       " 3          32\n",
       " 4           3\n",
       " ..        ...\n",
       " 717       205\n",
       " 718      -235\n",
       " 719       698\n",
       " 720     80995\n",
       " 721    -80995\n",
       " \n",
       " [722 rows x 1 columns],\n",
       " 'InvoiceDate':            InvoiceDate\n",
       " 0       12/1/2010 8:26\n",
       " 1       12/1/2010 8:28\n",
       " 2       12/1/2010 8:34\n",
       " 3       12/1/2010 8:35\n",
       " 4       12/1/2010 8:45\n",
       " ...                ...\n",
       " 23255  12/9/2011 12:23\n",
       " 23256  12/9/2011 12:25\n",
       " 23257  12/9/2011 12:31\n",
       " 23258  12/9/2011 12:49\n",
       " 23259  12/9/2011 12:50\n",
       " \n",
       " [23260 rows x 1 columns],\n",
       " 'UnitPrice':       UnitPrice\n",
       " 0          2.55\n",
       " 1          3.39\n",
       " 2          2.75\n",
       " 3          7.65\n",
       " 4          4.25\n",
       " ...         ...\n",
       " 1625     938.59\n",
       " 1626       4.76\n",
       " 1627     933.17\n",
       " 1628    1714.17\n",
       " 1629     224.69\n",
       " \n",
       " [1630 rows x 1 columns],\n",
       " 'CustomerID':       CustomerID\n",
       " 0        17850.0\n",
       " 1        13047.0\n",
       " 2        12583.0\n",
       " 3        13748.0\n",
       " 4        15100.0\n",
       " ...          ...\n",
       " 4368     13436.0\n",
       " 4369     15520.0\n",
       " 4370     13298.0\n",
       " 4371     14569.0\n",
       " 4372     12713.0\n",
       " \n",
       " [4373 rows x 1 columns],\n",
       " 'Country':                  Country\n",
       " 0         United Kingdom\n",
       " 1                 France\n",
       " 2              Australia\n",
       " 3            Netherlands\n",
       " 4                Germany\n",
       " 5                 Norway\n",
       " 6                   EIRE\n",
       " 7            Switzerland\n",
       " 8                  Spain\n",
       " 9                 Poland\n",
       " 10              Portugal\n",
       " 11                 Italy\n",
       " 12               Belgium\n",
       " 13             Lithuania\n",
       " 14                 Japan\n",
       " 15               Iceland\n",
       " 16       Channel Islands\n",
       " 17               Denmark\n",
       " 18                Cyprus\n",
       " 19                Sweden\n",
       " 20               Austria\n",
       " 21                Israel\n",
       " 22               Finland\n",
       " 23               Bahrain\n",
       " 24                Greece\n",
       " 25             Hong Kong\n",
       " 26             Singapore\n",
       " 27               Lebanon\n",
       " 28  United Arab Emirates\n",
       " 29          Saudi Arabia\n",
       " 30        Czech Republic\n",
       " 31                Canada\n",
       " 32           Unspecified\n",
       " 33                Brazil\n",
       " 34                   USA\n",
       " 35    European Community\n",
       " 36                 Malta\n",
       " 37                   RSA}"
      ]
     },
     "execution_count": 9,
     "metadata": {},
     "output_type": "execute_result"
    }
   ],
   "source": [
    "df1 = dict(zip([i for i in df.columns] , [pd.DataFrame(df[i].unique(), columns=[i]) for i in df.columns]))\n",
    "df1"
   ]
  },
  {
   "cell_type": "markdown",
   "metadata": {},
   "source": [
    "f. Duplicate values across all columns "
   ]
  },
  {
   "cell_type": "code",
   "execution_count": 10,
   "metadata": {},
   "outputs": [
    {
     "data": {
      "text/html": [
       "<div>\n",
       "<style scoped>\n",
       "    .dataframe tbody tr th:only-of-type {\n",
       "        vertical-align: middle;\n",
       "    }\n",
       "\n",
       "    .dataframe tbody tr th {\n",
       "        vertical-align: top;\n",
       "    }\n",
       "\n",
       "    .dataframe thead th {\n",
       "        text-align: right;\n",
       "    }\n",
       "</style>\n",
       "<table border=\"1\" class=\"dataframe\">\n",
       "  <thead>\n",
       "    <tr style=\"text-align: right;\">\n",
       "      <th></th>\n",
       "      <th>InvoiceNo</th>\n",
       "      <th>StockCode</th>\n",
       "      <th>Description</th>\n",
       "      <th>Quantity</th>\n",
       "      <th>InvoiceDate</th>\n",
       "      <th>UnitPrice</th>\n",
       "      <th>CustomerID</th>\n",
       "      <th>Country</th>\n",
       "    </tr>\n",
       "  </thead>\n",
       "  <tbody>\n",
       "    <tr>\n",
       "      <th>517</th>\n",
       "      <td>536409</td>\n",
       "      <td>21866</td>\n",
       "      <td>UNION JACK FLAG LUGGAGE TAG</td>\n",
       "      <td>1</td>\n",
       "      <td>12/1/2010 11:45</td>\n",
       "      <td>1.25</td>\n",
       "      <td>17908.0</td>\n",
       "      <td>United Kingdom</td>\n",
       "    </tr>\n",
       "    <tr>\n",
       "      <th>527</th>\n",
       "      <td>536409</td>\n",
       "      <td>22866</td>\n",
       "      <td>HAND WARMER SCOTTY DOG DESIGN</td>\n",
       "      <td>1</td>\n",
       "      <td>12/1/2010 11:45</td>\n",
       "      <td>2.10</td>\n",
       "      <td>17908.0</td>\n",
       "      <td>United Kingdom</td>\n",
       "    </tr>\n",
       "    <tr>\n",
       "      <th>537</th>\n",
       "      <td>536409</td>\n",
       "      <td>22900</td>\n",
       "      <td>SET 2 TEA TOWELS I LOVE LONDON</td>\n",
       "      <td>1</td>\n",
       "      <td>12/1/2010 11:45</td>\n",
       "      <td>2.95</td>\n",
       "      <td>17908.0</td>\n",
       "      <td>United Kingdom</td>\n",
       "    </tr>\n",
       "    <tr>\n",
       "      <th>539</th>\n",
       "      <td>536409</td>\n",
       "      <td>22111</td>\n",
       "      <td>SCOTTIE DOG HOT WATER BOTTLE</td>\n",
       "      <td>1</td>\n",
       "      <td>12/1/2010 11:45</td>\n",
       "      <td>4.95</td>\n",
       "      <td>17908.0</td>\n",
       "      <td>United Kingdom</td>\n",
       "    </tr>\n",
       "    <tr>\n",
       "      <th>555</th>\n",
       "      <td>536412</td>\n",
       "      <td>22327</td>\n",
       "      <td>ROUND SNACK BOXES SET OF 4 SKULLS</td>\n",
       "      <td>1</td>\n",
       "      <td>12/1/2010 11:49</td>\n",
       "      <td>2.95</td>\n",
       "      <td>17920.0</td>\n",
       "      <td>United Kingdom</td>\n",
       "    </tr>\n",
       "    <tr>\n",
       "      <th>...</th>\n",
       "      <td>...</td>\n",
       "      <td>...</td>\n",
       "      <td>...</td>\n",
       "      <td>...</td>\n",
       "      <td>...</td>\n",
       "      <td>...</td>\n",
       "      <td>...</td>\n",
       "      <td>...</td>\n",
       "    </tr>\n",
       "    <tr>\n",
       "      <th>541675</th>\n",
       "      <td>581538</td>\n",
       "      <td>22068</td>\n",
       "      <td>BLACK PIRATE TREASURE CHEST</td>\n",
       "      <td>1</td>\n",
       "      <td>12/9/2011 11:34</td>\n",
       "      <td>0.39</td>\n",
       "      <td>14446.0</td>\n",
       "      <td>United Kingdom</td>\n",
       "    </tr>\n",
       "    <tr>\n",
       "      <th>541689</th>\n",
       "      <td>581538</td>\n",
       "      <td>23318</td>\n",
       "      <td>BOX OF 6 MINI VINTAGE CRACKERS</td>\n",
       "      <td>1</td>\n",
       "      <td>12/9/2011 11:34</td>\n",
       "      <td>2.49</td>\n",
       "      <td>14446.0</td>\n",
       "      <td>United Kingdom</td>\n",
       "    </tr>\n",
       "    <tr>\n",
       "      <th>541692</th>\n",
       "      <td>581538</td>\n",
       "      <td>22992</td>\n",
       "      <td>REVOLVER WOODEN RULER</td>\n",
       "      <td>1</td>\n",
       "      <td>12/9/2011 11:34</td>\n",
       "      <td>1.95</td>\n",
       "      <td>14446.0</td>\n",
       "      <td>United Kingdom</td>\n",
       "    </tr>\n",
       "    <tr>\n",
       "      <th>541699</th>\n",
       "      <td>581538</td>\n",
       "      <td>22694</td>\n",
       "      <td>WICKER STAR</td>\n",
       "      <td>1</td>\n",
       "      <td>12/9/2011 11:34</td>\n",
       "      <td>2.10</td>\n",
       "      <td>14446.0</td>\n",
       "      <td>United Kingdom</td>\n",
       "    </tr>\n",
       "    <tr>\n",
       "      <th>541701</th>\n",
       "      <td>581538</td>\n",
       "      <td>23343</td>\n",
       "      <td>JUMBO BAG VINTAGE CHRISTMAS</td>\n",
       "      <td>1</td>\n",
       "      <td>12/9/2011 11:34</td>\n",
       "      <td>2.08</td>\n",
       "      <td>14446.0</td>\n",
       "      <td>United Kingdom</td>\n",
       "    </tr>\n",
       "  </tbody>\n",
       "</table>\n",
       "<p>5268 rows × 8 columns</p>\n",
       "</div>"
      ],
      "text/plain": [
       "       InvoiceNo StockCode                        Description  Quantity  \\\n",
       "517       536409     21866        UNION JACK FLAG LUGGAGE TAG         1   \n",
       "527       536409     22866      HAND WARMER SCOTTY DOG DESIGN         1   \n",
       "537       536409     22900    SET 2 TEA TOWELS I LOVE LONDON          1   \n",
       "539       536409     22111       SCOTTIE DOG HOT WATER BOTTLE         1   \n",
       "555       536412     22327  ROUND SNACK BOXES SET OF 4 SKULLS         1   \n",
       "...          ...       ...                                ...       ...   \n",
       "541675    581538     22068        BLACK PIRATE TREASURE CHEST         1   \n",
       "541689    581538     23318     BOX OF 6 MINI VINTAGE CRACKERS         1   \n",
       "541692    581538     22992             REVOLVER WOODEN RULER          1   \n",
       "541699    581538     22694                       WICKER STAR          1   \n",
       "541701    581538     23343       JUMBO BAG VINTAGE CHRISTMAS          1   \n",
       "\n",
       "            InvoiceDate  UnitPrice  CustomerID         Country  \n",
       "517     12/1/2010 11:45       1.25     17908.0  United Kingdom  \n",
       "527     12/1/2010 11:45       2.10     17908.0  United Kingdom  \n",
       "537     12/1/2010 11:45       2.95     17908.0  United Kingdom  \n",
       "539     12/1/2010 11:45       4.95     17908.0  United Kingdom  \n",
       "555     12/1/2010 11:49       2.95     17920.0  United Kingdom  \n",
       "...                 ...        ...         ...             ...  \n",
       "541675  12/9/2011 11:34       0.39     14446.0  United Kingdom  \n",
       "541689  12/9/2011 11:34       2.49     14446.0  United Kingdom  \n",
       "541692  12/9/2011 11:34       1.95     14446.0  United Kingdom  \n",
       "541699  12/9/2011 11:34       2.10     14446.0  United Kingdom  \n",
       "541701  12/9/2011 11:34       2.08     14446.0  United Kingdom  \n",
       "\n",
       "[5268 rows x 8 columns]"
      ]
     },
     "execution_count": 10,
     "metadata": {},
     "output_type": "execute_result"
    }
   ],
   "source": [
    "duplicate = df[df.duplicated(keep='first')] \n",
    "duplicate"
   ]
  },
  {
   "cell_type": "markdown",
   "metadata": {},
   "source": [
    "g. Correlation – Heatmap - All Numeric Variables "
   ]
  },
  {
   "cell_type": "code",
   "execution_count": 11,
   "metadata": {},
   "outputs": [
    {
     "data": {
      "image/png": "[encoded data removed]",
      "text/plain": [
       "<Figure size 432x288 with 2 Axes>"
      ]
     },
     "metadata": {
      "needs_background": "light"
     },
     "output_type": "display_data"
    }
   ],
   "source": [
    "sns.heatmap(df[['UnitPrice','CustomerID','Quantity']])\n",
    "plt.show()"
   ]
  },
  {
   "cell_type": "code",
   "execution_count": 12,
   "metadata": {},
   "outputs": [
    {
     "data": {
      "text/html": [
       "<div>\n",
       "<style scoped>\n",
       "    .dataframe tbody tr th:only-of-type {\n",
       "        vertical-align: middle;\n",
       "    }\n",
       "\n",
       "    .dataframe tbody tr th {\n",
       "        vertical-align: top;\n",
       "    }\n",
       "\n",
       "    .dataframe thead th {\n",
       "        text-align: right;\n",
       "    }\n",
       "</style>\n",
       "<table border=\"1\" class=\"dataframe\">\n",
       "  <thead>\n",
       "    <tr style=\"text-align: right;\">\n",
       "      <th></th>\n",
       "      <th>UnitPrice</th>\n",
       "      <th>CustomerID</th>\n",
       "      <th>Quantity</th>\n",
       "    </tr>\n",
       "  </thead>\n",
       "  <tbody>\n",
       "    <tr>\n",
       "      <th>UnitPrice</th>\n",
       "      <td>1.000000</td>\n",
       "      <td>-0.00456</td>\n",
       "      <td>-0.001235</td>\n",
       "    </tr>\n",
       "    <tr>\n",
       "      <th>CustomerID</th>\n",
       "      <td>-0.004560</td>\n",
       "      <td>1.00000</td>\n",
       "      <td>-0.003600</td>\n",
       "    </tr>\n",
       "    <tr>\n",
       "      <th>Quantity</th>\n",
       "      <td>-0.001235</td>\n",
       "      <td>-0.00360</td>\n",
       "      <td>1.000000</td>\n",
       "    </tr>\n",
       "  </tbody>\n",
       "</table>\n",
       "</div>"
      ],
      "text/plain": [
       "            UnitPrice  CustomerID  Quantity\n",
       "UnitPrice    1.000000    -0.00456 -0.001235\n",
       "CustomerID  -0.004560     1.00000 -0.003600\n",
       "Quantity    -0.001235    -0.00360  1.000000"
      ]
     },
     "execution_count": 12,
     "metadata": {},
     "output_type": "execute_result"
    }
   ],
   "source": [
    "df[['UnitPrice','CustomerID','Quantity']].corr()"
   ]
  },
  {
   "cell_type": "markdown",
   "metadata": {},
   "source": [
    "h. Regression Plot - All Numeric Variables "
   ]
  },
  {
   "cell_type": "code",
   "execution_count": null,
   "metadata": {},
   "outputs": [],
   "source": [
    "sns.regplot(x=df['UnitPrice'],y=df['CustomerID'])\n",
    "plt.show()"
   ]
  },
  {
   "cell_type": "markdown",
   "metadata": {},
   "source": [
    "i. Bar Plot – Every Categorical Variable vs every Numerical Variable "
   ]
  },
  {
   "cell_type": "code",
   "execution_count": null,
   "metadata": {},
   "outputs": [],
   "source": [
    "df[['UnitPrice','CustomerID','Quantity']].plot.bar()"
   ]
  },
  {
   "cell_type": "markdown",
   "metadata": {},
   "source": [
    "j. Pair plot - All Numeric Variables "
   ]
  },
  {
   "cell_type": "code",
   "execution_count": 14,
   "metadata": {},
   "outputs": [
    {
     "data": {
      "image/png": "[encoded data removed]",
      "text/plain": [
       "<Figure size 540x540 with 12 Axes>"
      ]
     },
     "metadata": {
      "needs_background": "light"
     },
     "output_type": "display_data"
    }
   ],
   "source": [
    "sns.pairplot(df[['UnitPrice','CustomerID','Quantity']])\n",
    "plt.show()"
   ]
  },
  {
   "cell_type": "markdown",
   "metadata": {},
   "source": [
    "k. Line chart to show the trend of data - All Numeric/Date Variables "
   ]
  },
  {
   "cell_type": "code",
   "execution_count": 15,
   "metadata": {},
   "outputs": [
    {
     "data": {
      "text/plain": [
       "<matplotlib.axes._subplots.AxesSubplot at 0x271b141b788>"
      ]
     },
     "execution_count": 15,
     "metadata": {},
     "output_type": "execute_result"
    },
    {
     "data": {
      "image/png": "[encoded data removed]",
      "text/plain": [
       "<Figure size 432x288 with 1 Axes>"
      ]
     },
     "metadata": {
      "needs_background": "light"
     },
     "output_type": "display_data"
    }
   ],
   "source": [
    "df[['UnitPrice','CustomerID','Quantity']].plot.line()"
   ]
  },
  {
   "cell_type": "markdown",
   "metadata": {},
   "source": [
    "l. Plot the skewness - All Numeric Variables "
   ]
  },
  {
   "cell_type": "code",
   "execution_count": 17,
   "metadata": {},
   "outputs": [
    {
     "data": {
      "text/plain": [
       "<matplotlib.axes._subplots.AxesSubplot at 0x271b1417a48>"
      ]
     },
     "execution_count": 17,
     "metadata": {},
     "output_type": "execute_result"
    },
    {
     "data": {
      "image/png": "[encoded data removed]",
      "text/plain": [
       "<Figure size 432x288 with 1 Axes>"
      ]
     },
     "metadata": {
      "needs_background": "light"
     },
     "output_type": "display_data"
    }
   ],
   "source": [
    "df[['UnitPrice','CustomerID','Quantity']].skew().plot()"
   ]
  },
  {
   "cell_type": "markdown",
   "metadata": {},
   "source": [
    "### 2. Check for missing values in all columns and replace them with the appropriate metric (Mean/Median/Mode)"
   ]
  },
  {
   "cell_type": "code",
   "execution_count": 268,
   "metadata": {},
   "outputs": [
    {
     "data": {
      "text/plain": [
       "CustomerID     135080\n",
       "Description      1454\n",
       "Country             0\n",
       "UnitPrice           0\n",
       "InvoiceDate         0\n",
       "Quantity            0\n",
       "StockCode           0\n",
       "InvoiceNo           0\n",
       "dtype: int64"
      ]
     },
     "execution_count": 268,
     "metadata": {},
     "output_type": "execute_result"
    }
   ],
   "source": [
    "df.isnull().sum().sort_values(ascending=False)"
   ]
  },
  {
   "cell_type": "code",
   "execution_count": 269,
   "metadata": {},
   "outputs": [],
   "source": [
    "mean_value = round(df['CustomerID'].mean(),2)\n",
    "df['CustomerID'] = df['CustomerID'].fillna(mean_value)\n",
    "df['CustomerID'] = df['CustomerID'].astype(int)"
   ]
  },
  {
   "cell_type": "code",
   "execution_count": 270,
   "metadata": {},
   "outputs": [],
   "source": [
    "mode_value = df['Description'].mode()\n",
    "df['Description'] = df['Description'].fillna(mode_value)[1]"
   ]
  },
  {
   "cell_type": "code",
   "execution_count": 271,
   "metadata": {},
   "outputs": [
    {
     "data": {
      "text/plain": [
       "InvoiceNo      0\n",
       "StockCode      0\n",
       "Description    0\n",
       "Quantity       0\n",
       "InvoiceDate    0\n",
       "UnitPrice      0\n",
       "CustomerID     0\n",
       "Country        0\n",
       "dtype: int64"
      ]
     },
     "execution_count": 271,
     "metadata": {},
     "output_type": "execute_result"
    }
   ],
   "source": [
    "df.isnull().sum().sort_values()"
   ]
  },
  {
   "cell_type": "markdown",
   "metadata": {},
   "source": [
    "### 3. Remove duplicate rows "
   ]
  },
  {
   "cell_type": "code",
   "execution_count": 272,
   "metadata": {},
   "outputs": [
    {
     "data": {
      "text/plain": [
       "(541909, 8)"
      ]
     },
     "execution_count": 272,
     "metadata": {},
     "output_type": "execute_result"
    }
   ],
   "source": [
    "df.shape"
   ]
  },
  {
   "cell_type": "code",
   "execution_count": 273,
   "metadata": {},
   "outputs": [
    {
     "data": {
      "text/plain": [
       "(536639, 8)"
      ]
     },
     "execution_count": 273,
     "metadata": {},
     "output_type": "execute_result"
    }
   ],
   "source": [
    "df.drop_duplicates(inplace=True)\n",
    "df.shape"
   ]
  },
  {
   "cell_type": "markdown",
   "metadata": {},
   "source": [
    "### 4. Remove rows which have negative values in Quantity column "
   ]
  },
  {
   "cell_type": "code",
   "execution_count": 274,
   "metadata": {},
   "outputs": [
    {
     "data": {
      "text/plain": [
       "-80995"
      ]
     },
     "execution_count": 274,
     "metadata": {},
     "output_type": "execute_result"
    }
   ],
   "source": [
    "df['Quantity'].min()"
   ]
  },
  {
   "cell_type": "code",
   "execution_count": 275,
   "metadata": {},
   "outputs": [],
   "source": [
    "df = df.drop(df[df['Quantity'] < 0].index)"
   ]
  },
  {
   "cell_type": "code",
   "execution_count": 276,
   "metadata": {},
   "outputs": [
    {
     "data": {
      "text/plain": [
       "1"
      ]
     },
     "execution_count": 276,
     "metadata": {},
     "output_type": "execute_result"
    }
   ],
   "source": [
    "df['Quantity'].min()"
   ]
  },
  {
   "cell_type": "markdown",
   "metadata": {},
   "source": [
    "### 5. Add the columns - Month, Day and Hour for the invoice "
   ]
  },
  {
   "cell_type": "code",
   "execution_count": 277,
   "metadata": {},
   "outputs": [
    {
     "name": "stdout",
     "output_type": "stream",
     "text": [
      "<class 'pandas.core.frame.DataFrame'>\n",
      "Int64Index: 526052 entries, 0 to 541908\n",
      "Data columns (total 8 columns):\n",
      " #   Column       Non-Null Count   Dtype  \n",
      "---  ------       --------------   -----  \n",
      " 0   InvoiceNo    526052 non-null  object \n",
      " 1   StockCode    526052 non-null  object \n",
      " 2   Description  526052 non-null  object \n",
      " 3   Quantity     526052 non-null  int64  \n",
      " 4   InvoiceDate  526052 non-null  object \n",
      " 5   UnitPrice    526052 non-null  float64\n",
      " 6   CustomerID   526052 non-null  int32  \n",
      " 7   Country      526052 non-null  object \n",
      "dtypes: float64(1), int32(1), int64(1), object(5)\n",
      "memory usage: 34.1+ MB\n"
     ]
    }
   ],
   "source": [
    "df.info()"
   ]
  },
  {
   "cell_type": "code",
   "execution_count": 278,
   "metadata": {},
   "outputs": [],
   "source": [
    "df['InvoiceDate']= pd.to_datetime(df['InvoiceDate'])"
   ]
  },
  {
   "cell_type": "code",
   "execution_count": 279,
   "metadata": {},
   "outputs": [
    {
     "name": "stdout",
     "output_type": "stream",
     "text": [
      "<class 'pandas.core.frame.DataFrame'>\n",
      "Int64Index: 526052 entries, 0 to 541908\n",
      "Data columns (total 8 columns):\n",
      " #   Column       Non-Null Count   Dtype         \n",
      "---  ------       --------------   -----         \n",
      " 0   InvoiceNo    526052 non-null  object        \n",
      " 1   StockCode    526052 non-null  object        \n",
      " 2   Description  526052 non-null  object        \n",
      " 3   Quantity     526052 non-null  int64         \n",
      " 4   InvoiceDate  526052 non-null  datetime64[ns]\n",
      " 5   UnitPrice    526052 non-null  float64       \n",
      " 6   CustomerID   526052 non-null  int32         \n",
      " 7   Country      526052 non-null  object        \n",
      "dtypes: datetime64[ns](1), float64(1), int32(1), int64(1), object(4)\n",
      "memory usage: 34.1+ MB\n"
     ]
    }
   ],
   "source": [
    "df.info()"
   ]
  },
  {
   "cell_type": "code",
   "execution_count": 280,
   "metadata": {},
   "outputs": [],
   "source": [
    "import datetime as dt\n",
    "df['Month_Year'] = df['InvoiceDate'].dt.month_name().str.slice(0,3)+\"_\"+df['InvoiceDate'].dt.year.astype(str)\n",
    "df['Day'] = df['InvoiceDate'].dt.day_name().str.slice(0,3)\n",
    "df['Hour'] = df['InvoiceDate'].dt.hour"
   ]
  },
  {
   "cell_type": "code",
   "execution_count": 281,
   "metadata": {},
   "outputs": [
    {
     "data": {
      "text/html": [
       "<div>\n",
       "<style scoped>\n",
       "    .dataframe tbody tr th:only-of-type {\n",
       "        vertical-align: middle;\n",
       "    }\n",
       "\n",
       "    .dataframe tbody tr th {\n",
       "        vertical-align: top;\n",
       "    }\n",
       "\n",
       "    .dataframe thead th {\n",
       "        text-align: right;\n",
       "    }\n",
       "</style>\n",
       "<table border=\"1\" class=\"dataframe\">\n",
       "  <thead>\n",
       "    <tr style=\"text-align: right;\">\n",
       "      <th></th>\n",
       "      <th>InvoiceNo</th>\n",
       "      <th>StockCode</th>\n",
       "      <th>Description</th>\n",
       "      <th>Quantity</th>\n",
       "      <th>InvoiceDate</th>\n",
       "      <th>UnitPrice</th>\n",
       "      <th>CustomerID</th>\n",
       "      <th>Country</th>\n",
       "      <th>Month_Year</th>\n",
       "      <th>Day</th>\n",
       "      <th>Hour</th>\n",
       "    </tr>\n",
       "  </thead>\n",
       "  <tbody>\n",
       "    <tr>\n",
       "      <th>541904</th>\n",
       "      <td>581587</td>\n",
       "      <td>22613</td>\n",
       "      <td>WHITE METAL LANTERN</td>\n",
       "      <td>12</td>\n",
       "      <td>2011-12-09 12:50:00</td>\n",
       "      <td>0.85</td>\n",
       "      <td>12680</td>\n",
       "      <td>France</td>\n",
       "      <td>Dec_2011</td>\n",
       "      <td>Fri</td>\n",
       "      <td>12</td>\n",
       "    </tr>\n",
       "    <tr>\n",
       "      <th>541905</th>\n",
       "      <td>581587</td>\n",
       "      <td>22899</td>\n",
       "      <td>WHITE METAL LANTERN</td>\n",
       "      <td>6</td>\n",
       "      <td>2011-12-09 12:50:00</td>\n",
       "      <td>2.10</td>\n",
       "      <td>12680</td>\n",
       "      <td>France</td>\n",
       "      <td>Dec_2011</td>\n",
       "      <td>Fri</td>\n",
       "      <td>12</td>\n",
       "    </tr>\n",
       "    <tr>\n",
       "      <th>541906</th>\n",
       "      <td>581587</td>\n",
       "      <td>23254</td>\n",
       "      <td>WHITE METAL LANTERN</td>\n",
       "      <td>4</td>\n",
       "      <td>2011-12-09 12:50:00</td>\n",
       "      <td>4.15</td>\n",
       "      <td>12680</td>\n",
       "      <td>France</td>\n",
       "      <td>Dec_2011</td>\n",
       "      <td>Fri</td>\n",
       "      <td>12</td>\n",
       "    </tr>\n",
       "    <tr>\n",
       "      <th>541907</th>\n",
       "      <td>581587</td>\n",
       "      <td>23255</td>\n",
       "      <td>WHITE METAL LANTERN</td>\n",
       "      <td>4</td>\n",
       "      <td>2011-12-09 12:50:00</td>\n",
       "      <td>4.15</td>\n",
       "      <td>12680</td>\n",
       "      <td>France</td>\n",
       "      <td>Dec_2011</td>\n",
       "      <td>Fri</td>\n",
       "      <td>12</td>\n",
       "    </tr>\n",
       "    <tr>\n",
       "      <th>541908</th>\n",
       "      <td>581587</td>\n",
       "      <td>22138</td>\n",
       "      <td>WHITE METAL LANTERN</td>\n",
       "      <td>3</td>\n",
       "      <td>2011-12-09 12:50:00</td>\n",
       "      <td>4.95</td>\n",
       "      <td>12680</td>\n",
       "      <td>France</td>\n",
       "      <td>Dec_2011</td>\n",
       "      <td>Fri</td>\n",
       "      <td>12</td>\n",
       "    </tr>\n",
       "  </tbody>\n",
       "</table>\n",
       "</div>"
      ],
      "text/plain": [
       "       InvoiceNo StockCode          Description  Quantity         InvoiceDate  \\\n",
       "541904    581587     22613  WHITE METAL LANTERN        12 2011-12-09 12:50:00   \n",
       "541905    581587     22899  WHITE METAL LANTERN         6 2011-12-09 12:50:00   \n",
       "541906    581587     23254  WHITE METAL LANTERN         4 2011-12-09 12:50:00   \n",
       "541907    581587     23255  WHITE METAL LANTERN         4 2011-12-09 12:50:00   \n",
       "541908    581587     22138  WHITE METAL LANTERN         3 2011-12-09 12:50:00   \n",
       "\n",
       "        UnitPrice  CustomerID Country Month_Year  Day  Hour  \n",
       "541904       0.85       12680  France   Dec_2011  Fri    12  \n",
       "541905       2.10       12680  France   Dec_2011  Fri    12  \n",
       "541906       4.15       12680  France   Dec_2011  Fri    12  \n",
       "541907       4.15       12680  France   Dec_2011  Fri    12  \n",
       "541908       4.95       12680  France   Dec_2011  Fri    12  "
      ]
     },
     "execution_count": 281,
     "metadata": {},
     "output_type": "execute_result"
    }
   ],
   "source": [
    "df.tail()"
   ]
  },
  {
   "cell_type": "markdown",
   "metadata": {},
   "source": [
    "### 6. How many orders made by the customers? "
   ]
  },
  {
   "cell_type": "code",
   "execution_count": 282,
   "metadata": {},
   "outputs": [
    {
     "name": "stdout",
     "output_type": "stream",
     "text": [
      "Total number of orders made by all customers:  5644716\n"
     ]
    }
   ],
   "source": [
    "print(\"Total number of orders made by all customers: \",df['Quantity'].sum())"
   ]
  },
  {
   "cell_type": "code",
   "execution_count": 283,
   "metadata": {},
   "outputs": [
    {
     "name": "stdout",
     "output_type": "stream",
     "text": [
      "Total number of orders made by each customer: \n"
     ]
    },
    {
     "data": {
      "text/plain": [
       "CustomerID\n",
       "15287    479566\n",
       "14646    197491\n",
       "16446     80997\n",
       "14911     80490\n",
       "12415     77670\n",
       "          ...  \n",
       "15802         1\n",
       "16742         1\n",
       "17846         1\n",
       "17956         1\n",
       "15823         1\n",
       "Name: Quantity, Length: 4339, dtype: int64"
      ]
     },
     "execution_count": 283,
     "metadata": {},
     "output_type": "execute_result"
    }
   ],
   "source": [
    "print(\"Total number of orders made by each customer: \")\n",
    "df.groupby(['CustomerID'])['Quantity'].sum().sort_values(ascending=False)"
   ]
  },
  {
   "cell_type": "markdown",
   "metadata": {},
   "source": [
    "7. TOP 5 customers with higher number of orders "
   ]
  },
  {
   "cell_type": "code",
   "execution_count": 284,
   "metadata": {},
   "outputs": [
    {
     "data": {
      "text/plain": [
       "CustomerID\n",
       "15287    479566\n",
       "14646    197491\n",
       "16446     80997\n",
       "14911     80490\n",
       "12415     77670\n",
       "Name: Quantity, dtype: int64"
      ]
     },
     "execution_count": 284,
     "metadata": {},
     "output_type": "execute_result"
    }
   ],
   "source": [
    "df.groupby(['CustomerID'])['Quantity'].sum().sort_values(ascending=False).head(5)"
   ]
  },
  {
   "cell_type": "markdown",
   "metadata": {},
   "source": [
    "8. How much money spent by the customers? "
   ]
  },
  {
   "cell_type": "code",
   "execution_count": 285,
   "metadata": {},
   "outputs": [
    {
     "data": {
      "text/html": [
       "<div>\n",
       "<style scoped>\n",
       "    .dataframe tbody tr th:only-of-type {\n",
       "        vertical-align: middle;\n",
       "    }\n",
       "\n",
       "    .dataframe tbody tr th {\n",
       "        vertical-align: top;\n",
       "    }\n",
       "\n",
       "    .dataframe thead th {\n",
       "        text-align: right;\n",
       "    }\n",
       "</style>\n",
       "<table border=\"1\" class=\"dataframe\">\n",
       "  <thead>\n",
       "    <tr style=\"text-align: right;\">\n",
       "      <th></th>\n",
       "      <th>InvoiceNo</th>\n",
       "      <th>StockCode</th>\n",
       "      <th>Description</th>\n",
       "      <th>Quantity</th>\n",
       "      <th>InvoiceDate</th>\n",
       "      <th>UnitPrice</th>\n",
       "      <th>CustomerID</th>\n",
       "      <th>Country</th>\n",
       "      <th>Month_Year</th>\n",
       "      <th>Day</th>\n",
       "      <th>Hour</th>\n",
       "      <th>Money_Spent</th>\n",
       "    </tr>\n",
       "  </thead>\n",
       "  <tbody>\n",
       "    <tr>\n",
       "      <th>0</th>\n",
       "      <td>536365</td>\n",
       "      <td>85123A</td>\n",
       "      <td>WHITE METAL LANTERN</td>\n",
       "      <td>6</td>\n",
       "      <td>2010-12-01 08:26:00</td>\n",
       "      <td>2.55</td>\n",
       "      <td>17850</td>\n",
       "      <td>United Kingdom</td>\n",
       "      <td>Dec_2010</td>\n",
       "      <td>Wed</td>\n",
       "      <td>8</td>\n",
       "      <td>15.30</td>\n",
       "    </tr>\n",
       "    <tr>\n",
       "      <th>1</th>\n",
       "      <td>536365</td>\n",
       "      <td>71053</td>\n",
       "      <td>WHITE METAL LANTERN</td>\n",
       "      <td>6</td>\n",
       "      <td>2010-12-01 08:26:00</td>\n",
       "      <td>3.39</td>\n",
       "      <td>17850</td>\n",
       "      <td>United Kingdom</td>\n",
       "      <td>Dec_2010</td>\n",
       "      <td>Wed</td>\n",
       "      <td>8</td>\n",
       "      <td>20.34</td>\n",
       "    </tr>\n",
       "    <tr>\n",
       "      <th>2</th>\n",
       "      <td>536365</td>\n",
       "      <td>84406B</td>\n",
       "      <td>WHITE METAL LANTERN</td>\n",
       "      <td>8</td>\n",
       "      <td>2010-12-01 08:26:00</td>\n",
       "      <td>2.75</td>\n",
       "      <td>17850</td>\n",
       "      <td>United Kingdom</td>\n",
       "      <td>Dec_2010</td>\n",
       "      <td>Wed</td>\n",
       "      <td>8</td>\n",
       "      <td>22.00</td>\n",
       "    </tr>\n",
       "    <tr>\n",
       "      <th>3</th>\n",
       "      <td>536365</td>\n",
       "      <td>84029G</td>\n",
       "      <td>WHITE METAL LANTERN</td>\n",
       "      <td>6</td>\n",
       "      <td>2010-12-01 08:26:00</td>\n",
       "      <td>3.39</td>\n",
       "      <td>17850</td>\n",
       "      <td>United Kingdom</td>\n",
       "      <td>Dec_2010</td>\n",
       "      <td>Wed</td>\n",
       "      <td>8</td>\n",
       "      <td>20.34</td>\n",
       "    </tr>\n",
       "    <tr>\n",
       "      <th>4</th>\n",
       "      <td>536365</td>\n",
       "      <td>84029E</td>\n",
       "      <td>WHITE METAL LANTERN</td>\n",
       "      <td>6</td>\n",
       "      <td>2010-12-01 08:26:00</td>\n",
       "      <td>3.39</td>\n",
       "      <td>17850</td>\n",
       "      <td>United Kingdom</td>\n",
       "      <td>Dec_2010</td>\n",
       "      <td>Wed</td>\n",
       "      <td>8</td>\n",
       "      <td>20.34</td>\n",
       "    </tr>\n",
       "    <tr>\n",
       "      <th>5</th>\n",
       "      <td>536365</td>\n",
       "      <td>22752</td>\n",
       "      <td>WHITE METAL LANTERN</td>\n",
       "      <td>2</td>\n",
       "      <td>2010-12-01 08:26:00</td>\n",
       "      <td>7.65</td>\n",
       "      <td>17850</td>\n",
       "      <td>United Kingdom</td>\n",
       "      <td>Dec_2010</td>\n",
       "      <td>Wed</td>\n",
       "      <td>8</td>\n",
       "      <td>15.30</td>\n",
       "    </tr>\n",
       "    <tr>\n",
       "      <th>6</th>\n",
       "      <td>536365</td>\n",
       "      <td>21730</td>\n",
       "      <td>WHITE METAL LANTERN</td>\n",
       "      <td>6</td>\n",
       "      <td>2010-12-01 08:26:00</td>\n",
       "      <td>4.25</td>\n",
       "      <td>17850</td>\n",
       "      <td>United Kingdom</td>\n",
       "      <td>Dec_2010</td>\n",
       "      <td>Wed</td>\n",
       "      <td>8</td>\n",
       "      <td>25.50</td>\n",
       "    </tr>\n",
       "    <tr>\n",
       "      <th>7</th>\n",
       "      <td>536366</td>\n",
       "      <td>22633</td>\n",
       "      <td>WHITE METAL LANTERN</td>\n",
       "      <td>6</td>\n",
       "      <td>2010-12-01 08:28:00</td>\n",
       "      <td>1.85</td>\n",
       "      <td>17850</td>\n",
       "      <td>United Kingdom</td>\n",
       "      <td>Dec_2010</td>\n",
       "      <td>Wed</td>\n",
       "      <td>8</td>\n",
       "      <td>11.10</td>\n",
       "    </tr>\n",
       "    <tr>\n",
       "      <th>8</th>\n",
       "      <td>536366</td>\n",
       "      <td>22632</td>\n",
       "      <td>WHITE METAL LANTERN</td>\n",
       "      <td>6</td>\n",
       "      <td>2010-12-01 08:28:00</td>\n",
       "      <td>1.85</td>\n",
       "      <td>17850</td>\n",
       "      <td>United Kingdom</td>\n",
       "      <td>Dec_2010</td>\n",
       "      <td>Wed</td>\n",
       "      <td>8</td>\n",
       "      <td>11.10</td>\n",
       "    </tr>\n",
       "    <tr>\n",
       "      <th>9</th>\n",
       "      <td>536367</td>\n",
       "      <td>84879</td>\n",
       "      <td>WHITE METAL LANTERN</td>\n",
       "      <td>32</td>\n",
       "      <td>2010-12-01 08:34:00</td>\n",
       "      <td>1.69</td>\n",
       "      <td>13047</td>\n",
       "      <td>United Kingdom</td>\n",
       "      <td>Dec_2010</td>\n",
       "      <td>Wed</td>\n",
       "      <td>8</td>\n",
       "      <td>54.08</td>\n",
       "    </tr>\n",
       "  </tbody>\n",
       "</table>\n",
       "</div>"
      ],
      "text/plain": [
       "  InvoiceNo StockCode          Description  Quantity         InvoiceDate  \\\n",
       "0    536365    85123A  WHITE METAL LANTERN         6 2010-12-01 08:26:00   \n",
       "1    536365     71053  WHITE METAL LANTERN         6 2010-12-01 08:26:00   \n",
       "2    536365    84406B  WHITE METAL LANTERN         8 2010-12-01 08:26:00   \n",
       "3    536365    84029G  WHITE METAL LANTERN         6 2010-12-01 08:26:00   \n",
       "4    536365    84029E  WHITE METAL LANTERN         6 2010-12-01 08:26:00   \n",
       "5    536365     22752  WHITE METAL LANTERN         2 2010-12-01 08:26:00   \n",
       "6    536365     21730  WHITE METAL LANTERN         6 2010-12-01 08:26:00   \n",
       "7    536366     22633  WHITE METAL LANTERN         6 2010-12-01 08:28:00   \n",
       "8    536366     22632  WHITE METAL LANTERN         6 2010-12-01 08:28:00   \n",
       "9    536367     84879  WHITE METAL LANTERN        32 2010-12-01 08:34:00   \n",
       "\n",
       "   UnitPrice  CustomerID         Country Month_Year  Day  Hour  Money_Spent  \n",
       "0       2.55       17850  United Kingdom   Dec_2010  Wed     8        15.30  \n",
       "1       3.39       17850  United Kingdom   Dec_2010  Wed     8        20.34  \n",
       "2       2.75       17850  United Kingdom   Dec_2010  Wed     8        22.00  \n",
       "3       3.39       17850  United Kingdom   Dec_2010  Wed     8        20.34  \n",
       "4       3.39       17850  United Kingdom   Dec_2010  Wed     8        20.34  \n",
       "5       7.65       17850  United Kingdom   Dec_2010  Wed     8        15.30  \n",
       "6       4.25       17850  United Kingdom   Dec_2010  Wed     8        25.50  \n",
       "7       1.85       17850  United Kingdom   Dec_2010  Wed     8        11.10  \n",
       "8       1.85       17850  United Kingdom   Dec_2010  Wed     8        11.10  \n",
       "9       1.69       13047  United Kingdom   Dec_2010  Wed     8        54.08  "
      ]
     },
     "execution_count": 285,
     "metadata": {},
     "output_type": "execute_result"
    }
   ],
   "source": [
    "df['Money_Spent'] = df['Quantity'] * df['UnitPrice']\n",
    "df['Money_Spent'] = df['Money_Spent'].astype(float)\n",
    "df.head(10)"
   ]
  },
  {
   "cell_type": "code",
   "execution_count": 287,
   "metadata": {},
   "outputs": [
    {
     "name": "stdout",
     "output_type": "stream",
     "text": [
      "Total Money Spent by all Customers 10619434.834000003\n"
     ]
    }
   ],
   "source": [
    "print(\"Total Money Spent by all Customers\",df['Money_Spent'].sum())"
   ]
  },
  {
   "cell_type": "markdown",
   "metadata": {},
   "source": [
    "9. TOP 5 customers with highest money spent "
   ]
  },
  {
   "cell_type": "code",
   "execution_count": 288,
   "metadata": {},
   "outputs": [
    {
     "data": {
      "text/plain": [
       "540421    168469.60\n",
       "61619      77183.60\n",
       "222680     38970.00\n",
       "15017      13541.33\n",
       "299982     11062.06\n",
       "Name: Money_Spent, dtype: float64"
      ]
     },
     "execution_count": 288,
     "metadata": {},
     "output_type": "execute_result"
    }
   ],
   "source": [
    "df['Money_Spent'].sort_values(ascending=False).head(5)"
   ]
  },
  {
   "cell_type": "code",
   "execution_count": 289,
   "metadata": {},
   "outputs": [
    {
     "data": {
      "text/plain": [
       "<matplotlib.axes._subplots.AxesSubplot at 0x271e65d6088>"
      ]
     },
     "execution_count": 289,
     "metadata": {},
     "output_type": "execute_result"
    },
    {
     "data": {
      "image/png": "[encoded data removed]",
      "text/plain": [
       "<Figure size 432x288 with 1 Axes>"
      ]
     },
     "metadata": {
      "needs_background": "light"
     },
     "output_type": "display_data"
    }
   ],
   "source": [
    "df.groupby(['CustomerID'])['Money_Spent'].sum().sort_values(ascending=False).head(5).plot.bar()"
   ]
  },
  {
   "cell_type": "markdown",
   "metadata": {},
   "source": [
    "10. How many orders per month? "
   ]
  },
  {
   "cell_type": "code",
   "execution_count": 295,
   "metadata": {},
   "outputs": [
    {
     "data": {
      "text/plain": [
       "<matplotlib.axes._subplots.AxesSubplot at 0x271df5d8348>"
      ]
     },
     "execution_count": 295,
     "metadata": {},
     "output_type": "execute_result"
    },
    {
     "data": {
      "image/png": "[encoded data removed]",
      "text/plain": [
       "<Figure size 432x288 with 1 Axes>"
      ]
     },
     "metadata": {
      "needs_background": "light"
     },
     "output_type": "display_data"
    }
   ],
   "source": [
    "df.groupby(['Month_Year'])['Quantity'].sum().plot.bar(color='red')"
   ]
  },
  {
   "cell_type": "markdown",
   "metadata": {},
   "source": [
    "11. How many orders per day? "
   ]
  },
  {
   "cell_type": "code",
   "execution_count": 300,
   "metadata": {},
   "outputs": [
    {
     "data": {
      "text/plain": [
       "Day\n",
       "Fri     919420\n",
       "Mon     878575\n",
       "Sun     465511\n",
       "Thu    1227204\n",
       "Tue    1120211\n",
       "Wed    1033795\n",
       "Name: Quantity, dtype: int64"
      ]
     },
     "execution_count": 300,
     "metadata": {},
     "output_type": "execute_result"
    }
   ],
   "source": [
    "df.groupby(['Day'])['Quantity'].sum()"
   ]
  },
  {
   "cell_type": "code",
   "execution_count": 310,
   "metadata": {},
   "outputs": [
    {
     "data": {
      "text/plain": [
       "<matplotlib.axes._subplots.AxesSubplot at 0x271ce6ef7c8>"
      ]
     },
     "execution_count": 310,
     "metadata": {},
     "output_type": "execute_result"
    },
    {
     "data": {
      "image/png": "[encoded data removed]",
      "text/plain": [
       "<Figure size 432x288 with 1 Axes>"
      ]
     },
     "metadata": {
      "needs_background": "light"
     },
     "output_type": "display_data"
    }
   ],
   "source": [
    "df.groupby(['Day'])['Quantity'].sum().sort_values(ascending=True).plot.barh(color='green')"
   ]
  },
  {
   "cell_type": "markdown",
   "metadata": {},
   "source": [
    "12. How many orders per hour? "
   ]
  },
  {
   "cell_type": "code",
   "execution_count": 305,
   "metadata": {},
   "outputs": [
    {
     "data": {
      "text/plain": [
       "Hour\n",
       "6          1\n",
       "7      15370\n",
       "8     158689\n",
       "9     521680\n",
       "10    818775\n",
       "11    674508\n",
       "12    851044\n",
       "13    708133\n",
       "14    604444\n",
       "15    649906\n",
       "16    337749\n",
       "17    194786\n",
       "18     67194\n",
       "19     32929\n",
       "20      9508\n",
       "Name: Quantity, dtype: int64"
      ]
     },
     "execution_count": 305,
     "metadata": {},
     "output_type": "execute_result"
    }
   ],
   "source": [
    "df.groupby(['Hour'])['Quantity'].sum()"
   ]
  },
  {
   "cell_type": "code",
   "execution_count": 306,
   "metadata": {},
   "outputs": [
    {
     "data": {
      "text/plain": [
       "<matplotlib.axes._subplots.AxesSubplot at 0x271be3a5ec8>"
      ]
     },
     "execution_count": 306,
     "metadata": {},
     "output_type": "execute_result"
    },
    {
     "data": {
      "image/png": "[encoded data removed]",
      "text/plain": [
       "<Figure size 432x288 with 1 Axes>"
      ]
     },
     "metadata": {
      "needs_background": "light"
     },
     "output_type": "display_data"
    }
   ],
   "source": [
    "df.groupby(['Hour'])['Quantity'].sum().plot.line(color='orange')"
   ]
  },
  {
   "cell_type": "markdown",
   "metadata": {},
   "source": [
    "13. How many orders for each country? "
   ]
  },
  {
   "cell_type": "code",
   "execution_count": 318,
   "metadata": {},
   "outputs": [
    {
     "data": {
      "text/plain": [
       "Country\n",
       "United Kingdom          4718026\n",
       "Netherlands              200937\n",
       "EIRE                     147281\n",
       "Germany                  119156\n",
       "France                   112061\n",
       "Australia                 84199\n",
       "Sweden                    36078\n",
       "Switzerland               30618\n",
       "Spain                     27944\n",
       "Japan                     26016\n",
       "Belgium                   23237\n",
       "Norway                    19338\n",
       "Portugal                  16231\n",
       "Finland                   10704\n",
       "Channel Islands            9485\n",
       "Denmark                    8235\n",
       "Italy                      8112\n",
       "Cyprus                     6340\n",
       "Singapore                  5241\n",
       "Austria                    4881\n",
       "Hong Kong                  4713\n",
       "Israel                     4406\n",
       "Poland                     3684\n",
       "Unspecified                3295\n",
       "Canada                     2763\n",
       "Iceland                    2458\n",
       "USA                        2458\n",
       "Greece                     1557\n",
       "United Arab Emirates        982\n",
       "Malta                       970\n",
       "Czech Republic              671\n",
       "Lithuania                   652\n",
       "European Community          499\n",
       "Lebanon                     386\n",
       "Brazil                      356\n",
       "RSA                         352\n",
       "Bahrain                     314\n",
       "Saudi Arabia                 80\n",
       "Name: Quantity, dtype: int64"
      ]
     },
     "execution_count": 318,
     "metadata": {},
     "output_type": "execute_result"
    }
   ],
   "source": [
    "df.groupby(['Country'])['Quantity'].sum().sort_values(ascending=False)"
   ]
  },
  {
   "cell_type": "markdown",
   "metadata": {},
   "source": [
    "14. Orders trend across months "
   ]
  },
  {
   "cell_type": "code",
   "execution_count": 362,
   "metadata": {},
   "outputs": [
    {
     "data": {
      "text/plain": [
       "<function matplotlib.pyplot.show(*args, **kw)>"
      ]
     },
     "execution_count": 362,
     "metadata": {},
     "output_type": "execute_result"
    },
    {
     "data": {
      "image/png": "[encoded data removed]",
      "text/plain": [
       "<Figure size 432x288 with 1 Axes>"
      ]
     },
     "metadata": {
      "needs_background": "light"
     },
     "output_type": "display_data"
    }
   ],
   "source": [
    "df.groupby(['Month_Year'])['Quantity'].sum().sort_values(ascending=False)\n",
    "plt.scatter(y=df['Month_Year'],x=df['Quantity'])\n",
    "plt.show"
   ]
  },
  {
   "cell_type": "markdown",
   "metadata": {},
   "source": [
    "15. How much money spent by each country? "
   ]
  },
  {
   "cell_type": "code",
   "execution_count": 337,
   "metadata": {},
   "outputs": [
    {
     "data": {
      "text/plain": [
       "Country\n",
       "United Kingdom          8979068\n",
       "Netherlands              285446\n",
       "EIRE                     283140\n",
       "Germany                  228678\n",
       "France                   209625\n",
       "Australia                138453\n",
       "Spain                     61558\n",
       "Switzerland               57067\n",
       "Belgium                   41196\n",
       "Sweden                    38367\n",
       "Japan                     37416\n",
       "Norway                    36165\n",
       "Portugal                  33683\n",
       "Finland                   22546\n",
       "Singapore                 21279\n",
       "Channel Islands           20440\n",
       "Denmark                   18955\n",
       "Italy                     17483\n",
       "Hong Kong                 15483\n",
       "Cyprus                    13502\n",
       "Austria                   10198\n",
       "Israel                     8129\n",
       "Poland                     7334\n",
       "Greece                     4760\n",
       "Unspecified                4740\n",
       "Iceland                    4309\n",
       "Canada                     3666\n",
       "USA                        3580\n",
       "Malta                      2725\n",
       "United Arab Emirates       1902\n",
       "Lebanon                    1693\n",
       "Lithuania                  1661\n",
       "European Community         1300\n",
       "Brazil                     1143\n",
       "RSA                        1002\n",
       "Czech Republic              826\n",
       "Bahrain                     754\n",
       "Saudi Arabia                145\n",
       "Name: Money_Spent, dtype: int32"
      ]
     },
     "execution_count": 337,
     "metadata": {},
     "output_type": "execute_result"
    }
   ],
   "source": [
    "df.groupby(['Country'])['Money_Spent'].sum().astype(int).sort_values(ascending=False)"
   ]
  },
  {
   "cell_type": "code",
   "execution_count": null,
   "metadata": {},
   "outputs": [],
   "source": []
  }
 ],
 "metadata": {
  "kernelspec": {
   "display_name": "Python 3",
   "language": "python",
   "name": "python3"
  },
  "language_info": {
   "codemirror_mode": {
    "name": "ipython",
    "version": 3
   },
   "file_extension": ".py",
   "mimetype": "text/x-python",
   "name": "python",
   "nbconvert_exporter": "python",
   "pygments_lexer": "ipython3",
   "version": "3.7.6"
  }
 },
 "nbformat": 4,
 "nbformat_minor": 4
}
