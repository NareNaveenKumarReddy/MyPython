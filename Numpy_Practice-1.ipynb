{
 "cells": [
  {
   "cell_type": "markdown",
   "metadata": {},
   "source": [
    "\n",
    "1. Import the numpy package under the name np "
   ]
  },
  {
   "cell_type": "code",
   "execution_count": 1,
   "metadata": {},
   "outputs": [],
   "source": [
    "import numpy as np"
   ]
  },
  {
   "cell_type": "markdown",
   "metadata": {},
   "source": [
    " 2. Print the numpy version and the configuration "
   ]
  },
  {
   "cell_type": "code",
   "execution_count": 2,
   "metadata": {},
   "outputs": [
    {
     "data": {
      "text/plain": [
       "'1.19.2'"
      ]
     },
     "execution_count": 2,
     "metadata": {},
     "output_type": "execute_result"
    }
   ],
   "source": [
    "np.__version__"
   ]
  },
  {
   "cell_type": "code",
   "execution_count": 3,
   "metadata": {},
   "outputs": [
    {
     "name": "stdout",
     "output_type": "stream",
     "text": [
      "blas_mkl_info:\n",
      "  NOT AVAILABLE\n",
      "blis_info:\n",
      "  NOT AVAILABLE\n",
      "openblas_info:\n",
      "    library_dirs = ['D:\\\\a\\\\1\\\\s\\\\numpy\\\\build\\\\openblas_info']\n",
      "    libraries = ['openblas_info']\n",
      "    language = f77\n",
      "    define_macros = [('HAVE_CBLAS', None)]\n",
      "blas_opt_info:\n",
      "    library_dirs = ['D:\\\\a\\\\1\\\\s\\\\numpy\\\\build\\\\openblas_info']\n",
      "    libraries = ['openblas_info']\n",
      "    language = f77\n",
      "    define_macros = [('HAVE_CBLAS', None)]\n",
      "lapack_mkl_info:\n",
      "  NOT AVAILABLE\n",
      "openblas_lapack_info:\n",
      "    library_dirs = ['D:\\\\a\\\\1\\\\s\\\\numpy\\\\build\\\\openblas_lapack_info']\n",
      "    libraries = ['openblas_lapack_info']\n",
      "    language = f77\n",
      "    define_macros = [('HAVE_CBLAS', None)]\n",
      "lapack_opt_info:\n",
      "    library_dirs = ['D:\\\\a\\\\1\\\\s\\\\numpy\\\\build\\\\openblas_lapack_info']\n",
      "    libraries = ['openblas_lapack_info']\n",
      "    language = f77\n",
      "    define_macros = [('HAVE_CBLAS', None)]\n"
     ]
    }
   ],
   "source": [
    "np.show_config()"
   ]
  },
  {
   "cell_type": "markdown",
   "metadata": {},
   "source": [
    " 3. Create a null vector of size 10 "
   ]
  },
  {
   "cell_type": "code",
   "execution_count": 42,
   "metadata": {},
   "outputs": [
    {
     "data": {
      "text/plain": [
       "array([0., 0., 0., 0., 0., 0., 0., 0., 0., 0.])"
      ]
     },
     "execution_count": 42,
     "metadata": {},
     "output_type": "execute_result"
    }
   ],
   "source": [
    "np.zeros(10)"
   ]
  },
  {
   "cell_type": "markdown",
   "metadata": {},
   "source": [
    " 4. How to find the memory size of any array \n",
    " # Memory size of any array = array.size * array.itemsize"
   ]
  },
  {
   "cell_type": "code",
   "execution_count": 11,
   "metadata": {},
   "outputs": [
    {
     "name": "stdout",
     "output_type": "stream",
     "text": [
      "No.of items in the array:  20\n",
      "Size of each item in the array:  4\n",
      "Memory size of the array:  80\n"
     ]
    }
   ],
   "source": [
    "# Example to find memory size of an array\n",
    "array=np.ones((5,4),dtype='int')\n",
    "print(\"No.of items in the array: \",array.size)\n",
    "print(\"Size of each item in the array: \",array.itemsize)\n",
    "array_memory_size = array.size*array.itemsize\n",
    "print(\"Memory size of the array: \",array_memory_size)"
   ]
  },
  {
   "cell_type": "markdown",
   "metadata": {},
   "source": [
    "5. How to get the documentation of the numpy add function from the command line? "
   ]
  },
  {
   "cell_type": "markdown",
   "metadata": {},
   "source": [
    "Below command is used in command prompt to get documentation of the numpy add function"
   ]
  },
  {
   "cell_type": "markdown",
   "metadata": {},
   "source": [
    "## python -c \"import numpy; numpy.info(numpy.add)\""
   ]
  },
  {
   "cell_type": "markdown",
   "metadata": {},
   "source": [
    "6. Create a null vector of size 10 but the fifth value which is 1 "
   ]
  },
  {
   "cell_type": "code",
   "execution_count": 13,
   "metadata": {},
   "outputs": [
    {
     "data": {
      "text/plain": [
       "array([0, 0, 0, 0, 1, 0, 0, 0, 0, 0])"
      ]
     },
     "execution_count": 13,
     "metadata": {},
     "output_type": "execute_result"
    }
   ],
   "source": [
    "vector = np.zeros(10,dtype=int)\n",
    "vector[4]=1\n",
    "vector"
   ]
  },
  {
   "cell_type": "markdown",
   "metadata": {},
   "source": [
    "7. Create a vector with values ranging from 10 to 49 "
   ]
  },
  {
   "cell_type": "code",
   "execution_count": 14,
   "metadata": {},
   "outputs": [
    {
     "data": {
      "text/plain": [
       "array([10, 11, 12, 13, 14, 15, 16, 17, 18, 19, 20, 21, 22, 23, 24, 25, 26,\n",
       "       27, 28, 29, 30, 31, 32, 33, 34, 35, 36, 37, 38, 39, 40, 41, 42, 43,\n",
       "       44, 45, 46, 47, 48, 49])"
      ]
     },
     "execution_count": 14,
     "metadata": {},
     "output_type": "execute_result"
    }
   ],
   "source": [
    "vector1 = np.arange(10,50)\n",
    "vector1"
   ]
  },
  {
   "cell_type": "markdown",
   "metadata": {},
   "source": [
    "8. Reverse a vector (first element becomes last) "
   ]
  },
  {
   "cell_type": "code",
   "execution_count": 15,
   "metadata": {},
   "outputs": [
    {
     "data": {
      "text/plain": [
       "array([49, 48, 47, 46, 45, 44, 43, 42, 41, 40, 39, 38, 37, 36, 35, 34, 33,\n",
       "       32, 31, 30, 29, 28, 27, 26, 25, 24, 23, 22, 21, 20, 19, 18, 17, 16,\n",
       "       15, 14, 13, 12, 11, 10])"
      ]
     },
     "execution_count": 15,
     "metadata": {},
     "output_type": "execute_result"
    }
   ],
   "source": [
    "vector1[::-1]"
   ]
  },
  {
   "cell_type": "markdown",
   "metadata": {},
   "source": [
    "9. Create a 3x3 matrix with values ranging from 0 to 8 "
   ]
  },
  {
   "cell_type": "code",
   "execution_count": 18,
   "metadata": {},
   "outputs": [
    {
     "data": {
      "text/plain": [
       "array([[0, 1, 2],\n",
       "       [3, 4, 5],\n",
       "       [6, 7, 8]])"
      ]
     },
     "execution_count": 18,
     "metadata": {},
     "output_type": "execute_result"
    }
   ],
   "source": [
    "np.arange(9).reshape(3,3)"
   ]
  },
  {
   "cell_type": "markdown",
   "metadata": {},
   "source": [
    "10. Find indices of non-zero elements from [1,2,0,0,4,0] "
   ]
  },
  {
   "cell_type": "code",
   "execution_count": 26,
   "metadata": {},
   "outputs": [
    {
     "data": {
      "text/plain": [
       "(array([0, 1, 4], dtype=int64),)"
      ]
     },
     "execution_count": 26,
     "metadata": {},
     "output_type": "execute_result"
    }
   ],
   "source": [
    "arr1 = np.array([1,2,0,0,4,0])\n",
    "indices = np.where(arr1>0)\n",
    "indices"
   ]
  },
  {
   "cell_type": "markdown",
   "metadata": {},
   "source": [
    "11. Create a 3x3 identity matrix "
   ]
  },
  {
   "cell_type": "code",
   "execution_count": 36,
   "metadata": {},
   "outputs": [
    {
     "data": {
      "text/plain": [
       "array([[1, 0, 0],\n",
       "       [0, 1, 0],\n",
       "       [0, 0, 1]])"
      ]
     },
     "execution_count": 36,
     "metadata": {},
     "output_type": "execute_result"
    }
   ],
   "source": [
    "np.identity(3,dtype=int)\n",
    "# np.eye(3,dtype=int)"
   ]
  },
  {
   "cell_type": "markdown",
   "metadata": {},
   "source": [
    "12. Create a 3x3x3 array with random values "
   ]
  },
  {
   "cell_type": "code",
   "execution_count": 39,
   "metadata": {},
   "outputs": [
    {
     "data": {
      "text/plain": [
       "array([2.08601734, 1.94754608, 2.26445027])"
      ]
     },
     "execution_count": 39,
     "metadata": {},
     "output_type": "execute_result"
    }
   ],
   "source": [
    "np.random.uniform((3,3,3))"
   ]
  },
  {
   "cell_type": "markdown",
   "metadata": {},
   "source": [
    "13. Create a 10x10 array with random values and find the minimum and maximum values "
   ]
  },
  {
   "cell_type": "code",
   "execution_count": 54,
   "metadata": {},
   "outputs": [
    {
     "name": "stdout",
     "output_type": "stream",
     "text": [
      "Minimum Value:  0.01419269206551188\n",
      "Maximum Value:  0.9931528301080427\n"
     ]
    }
   ],
   "source": [
    "arr2 = np.random.random((10,10)) # 10x10 array with random values\n",
    "print(\"Minimum Value: \",arr2.min()) \n",
    "print(\"Maximum Value: \",arr2.max())"
   ]
  },
  {
   "cell_type": "markdown",
   "metadata": {},
   "source": [
    "14. Create a random vector of size 30 and find the mean value "
   ]
  },
  {
   "cell_type": "code",
   "execution_count": 56,
   "metadata": {},
   "outputs": [
    {
     "data": {
      "text/plain": [
       "0.4158166165119694"
      ]
     },
     "execution_count": 56,
     "metadata": {},
     "output_type": "execute_result"
    }
   ],
   "source": [
    "vector2 = np.random.random(30)\n",
    "vector2.mean()"
   ]
  },
  {
   "cell_type": "markdown",
   "metadata": {},
   "source": [
    "15. Create a 2d array with 1 on the border and 0 inside "
   ]
  },
  {
   "cell_type": "code",
   "execution_count": 69,
   "metadata": {},
   "outputs": [
    {
     "data": {
      "text/plain": [
       "array([[1, 1, 1, 1, 1],\n",
       "       [1, 0, 0, 0, 1],\n",
       "       [1, 0, 0, 0, 1],\n",
       "       [1, 0, 0, 0, 1],\n",
       "       [1, 1, 1, 1, 1]])"
      ]
     },
     "execution_count": 69,
     "metadata": {},
     "output_type": "execute_result"
    }
   ],
   "source": [
    "arr3 = np.ones((5,5),dtype=int)\n",
    "arr3[1:-1,1:-1]=0\n",
    "arr3"
   ]
  },
  {
   "cell_type": "markdown",
   "metadata": {},
   "source": [
    "16. How to add a border (filled with 0's) around an existing array? "
   ]
  },
  {
   "cell_type": "code",
   "execution_count": 78,
   "metadata": {},
   "outputs": [
    {
     "data": {
      "text/plain": [
       "array([[0, 0, 0, 0, 0, 0, 0],\n",
       "       [0, 1, 1, 1, 1, 1, 0],\n",
       "       [0, 1, 1, 1, 1, 1, 0],\n",
       "       [0, 1, 1, 1, 1, 1, 0],\n",
       "       [0, 1, 1, 1, 1, 1, 0],\n",
       "       [0, 1, 1, 1, 1, 1, 0],\n",
       "       [0, 0, 0, 0, 0, 0, 0]])"
      ]
     },
     "execution_count": 78,
     "metadata": {},
     "output_type": "execute_result"
    }
   ],
   "source": [
    "arr4 = np.ones((5,5),dtype=int)\n",
    "np.pad(arr4,pad_width=1)"
   ]
  },
  {
   "cell_type": "markdown",
   "metadata": {},
   "source": [
    "17. What is the result of the following expression? "
   ]
  },
  {
   "cell_type": "code",
   "execution_count": 79,
   "metadata": {},
   "outputs": [
    {
     "name": "stdout",
     "output_type": "stream",
     "text": [
      "nan\n",
      "False\n",
      "False\n",
      "nan\n",
      "True\n",
      "False\n"
     ]
    }
   ],
   "source": [
    "print(0 *  np.nan) \n",
    "print(np.nan == np.nan) \n",
    "print(np.inf > np.nan)\n",
    "print(np.nan - np.nan) \n",
    "print(np.nan in set([np.nan])) \n",
    "print(0.3 == 3 * 0.1) "
   ]
  },
  {
   "cell_type": "markdown",
   "metadata": {},
   "source": [
    "18. Create a 5x5 matrix with values 1,2,3,4 just below the diagonal "
   ]
  },
  {
   "cell_type": "code",
   "execution_count": 87,
   "metadata": {},
   "outputs": [
    {
     "data": {
      "text/plain": [
       "array([[0, 0, 0, 0, 0],\n",
       "       [1, 0, 0, 0, 0],\n",
       "       [0, 2, 0, 0, 0],\n",
       "       [0, 0, 3, 0, 0],\n",
       "       [0, 0, 0, 4, 0]])"
      ]
     },
     "execution_count": 87,
     "metadata": {},
     "output_type": "execute_result"
    }
   ],
   "source": [
    "np.diag(np.arange(1,5),-1)"
   ]
  },
  {
   "cell_type": "markdown",
   "metadata": {},
   "source": [
    "19. Create a 8x8 matrix and fill it with a checkerboard pattern "
   ]
  },
  {
   "cell_type": "markdown",
   "metadata": {},
   "source": [
    "CHECRKERBOARD Pattern consists of n * n squares of alternating 0 for white and 1 for black."
   ]
  },
  {
   "cell_type": "code",
   "execution_count": 104,
   "metadata": {},
   "outputs": [
    {
     "data": {
      "text/plain": [
       "array([[1, 0, 1, 0, 1, 0, 1, 0],\n",
       "       [0, 1, 0, 1, 0, 1, 0, 1],\n",
       "       [1, 0, 1, 0, 1, 0, 1, 0],\n",
       "       [0, 1, 0, 1, 0, 1, 0, 1],\n",
       "       [1, 0, 1, 0, 1, 0, 1, 0],\n",
       "       [0, 1, 0, 1, 0, 1, 0, 1],\n",
       "       [1, 0, 1, 0, 1, 0, 1, 0],\n",
       "       [0, 1, 0, 1, 0, 1, 0, 1]])"
      ]
     },
     "execution_count": 104,
     "metadata": {},
     "output_type": "execute_result"
    }
   ],
   "source": [
    "arr5 = np.ones((8,8),dtype=int)\n",
    "arr5[1::2,::2]=0\n",
    "arr5[::2,1::2]=0\n",
    "arr5"
   ]
  },
  {
   "cell_type": "markdown",
   "metadata": {},
   "source": [
    "20. Consider a (6,7,8) shape array, what is the index (x,y,z) of the 100th element? "
   ]
  },
  {
   "cell_type": "code",
   "execution_count": 110,
   "metadata": {},
   "outputs": [
    {
     "data": {
      "text/plain": [
       "(1, 5, 3)"
      ]
     },
     "execution_count": 110,
     "metadata": {},
     "output_type": "execute_result"
    }
   ],
   "source": [
    "np.unravel_index(99,(6,7,8))"
   ]
  },
  {
   "cell_type": "markdown",
   "metadata": {},
   "source": [
    "21. Create a checkerboard 8x8 matrix using the tile function "
   ]
  },
  {
   "cell_type": "code",
   "execution_count": 114,
   "metadata": {},
   "outputs": [
    {
     "data": {
      "text/plain": [
       "array([[1, 0, 1, 0, 1, 0, 1, 0],\n",
       "       [0, 1, 0, 1, 0, 1, 0, 1],\n",
       "       [1, 0, 1, 0, 1, 0, 1, 0],\n",
       "       [0, 1, 0, 1, 0, 1, 0, 1],\n",
       "       [1, 0, 1, 0, 1, 0, 1, 0],\n",
       "       [0, 1, 0, 1, 0, 1, 0, 1],\n",
       "       [1, 0, 1, 0, 1, 0, 1, 0],\n",
       "       [0, 1, 0, 1, 0, 1, 0, 1]])"
      ]
     },
     "execution_count": 114,
     "metadata": {},
     "output_type": "execute_result"
    }
   ],
   "source": [
    "arr6 = np.array([[1,0],[0,1]])\n",
    "checkerboard = np.tile(arr6,(4,4))\n",
    "checkerboard"
   ]
  },
  {
   "cell_type": "markdown",
   "metadata": {},
   "source": [
    "22. Normalize a 5x5 random matrix "
   ]
  },
  {
   "cell_type": "code",
   "execution_count": 120,
   "metadata": {},
   "outputs": [
    {
     "data": {
      "text/plain": [
       "array([[0.18764344, 0.92893966, 0.49395245, 0.87505899, 0.87725905],\n",
       "       [0.08406487, 0.50681415, 0.77782356, 0.76391361, 0.03065674],\n",
       "       [0.4703152 , 0.58020175, 0.03406057, 0.91864934, 1.        ],\n",
       "       [0.49633214, 0.08120957, 0.05343483, 0.44393631, 0.        ],\n",
       "       [0.85237621, 0.18580986, 0.20992901, 0.44594288, 0.79328677]])"
      ]
     },
     "execution_count": 120,
     "metadata": {},
     "output_type": "execute_result"
    }
   ],
   "source": [
    "# creating a 5x5 Matrix with random values\n",
    "matrix1 = np.random.random((5,5)) \n",
    "# The equation for normalization is derived by initially deducting the minimum value from the variable to be normalized. \n",
    "# The minimum value is deducted from the maximum value\n",
    "# and then the previous result is divided by the latter.\n",
    "Normalized_Matrix = (matrix1-matrix1.min())/(matrix1.max()-matrix1.min())\n",
    "Normalized_Matrix"
   ]
  },
  {
   "cell_type": "markdown",
   "metadata": {},
   "source": [
    "23. How to find the most frequent value in an array? "
   ]
  },
  {
   "cell_type": "markdown",
   "metadata": {},
   "source": [
    "Steps to find the most frequency value in a NumPy array:\n",
    "\n",
    "    Create a NumPy array.\n",
    "    Apply bincount() method of NumPy to get the count of occurrences of each element in the array.\n",
    "    The n, apply argmax() method to get the value having a maximum number of occurrences(frequency).\n"
   ]
  },
  {
   "cell_type": "code",
   "execution_count": 135,
   "metadata": {},
   "outputs": [
    {
     "name": "stdout",
     "output_type": "stream",
     "text": [
      "Count of occurrences of each element in the array:  [0 1 4 3 7 9 3 1 2 1]\n",
      "Most frequent value in the array: 5\n"
     ]
    }
   ],
   "source": [
    "arr7 = np.array([5,2,6,7,8,5,2,5,5,6,5,8,9,1,2,3,4,4,5,2,4,6,3,4,3,5,4,5,4,5,4]) \n",
    "print(\"Count of occurrences of each element in the array: \",np.bincount(arr7))\n",
    "print(\"Most frequent value in the array:\", np.bincount(arr7).argmax()) "
   ]
  },
  {
   "cell_type": "markdown",
   "metadata": {},
   "source": [
    "24. Multiply a 5x3 matrix by a 3x2 matrix (real matrix product) "
   ]
  },
  {
   "cell_type": "code",
   "execution_count": 138,
   "metadata": {},
   "outputs": [
    {
     "data": {
      "text/plain": [
       "array([[72, 72],\n",
       "       [72, 72],\n",
       "       [72, 72],\n",
       "       [72, 72],\n",
       "       [72, 72]])"
      ]
     },
     "execution_count": 138,
     "metadata": {},
     "output_type": "execute_result"
    }
   ],
   "source": [
    "# numpy.full() method is used to fill an array with all identical values with required shape\n",
    "# numpy. full(shape, fill_value) with shape as an x, y tuple to create an array with x rows, y columns, \n",
    "# and each element as fill_value .\n",
    "matrix_product = np.dot(np.full((5,3),4),np.full((3,2),6))\n",
    "matrix_product"
   ]
  },
  {
   "cell_type": "markdown",
   "metadata": {},
   "source": [
    "25. Given a 1D array, negate all elements which are between 3 and 8, in place. "
   ]
  },
  {
   "cell_type": "code",
   "execution_count": 149,
   "metadata": {},
   "outputs": [
    {
     "data": {
      "text/plain": [
       "array([ 2,  5,  2,  9, -7, -3, -4, -9, -5,  3,  8,  2,  2,  8,  2])"
      ]
     },
     "execution_count": 149,
     "metadata": {},
     "output_type": "execute_result"
    }
   ],
   "source": [
    "# creating 1D array\n",
    "arr8 = np.array([2,5,2,9,7,3,4,9,5,3,8,2,2,8,2])\n",
    "arr8[4:9]*=-1\n",
    "arr8"
   ]
  },
  {
   "cell_type": "markdown",
   "metadata": {},
   "source": [
    "26. What is the output of the following script? "
   ]
  },
  {
   "cell_type": "code",
   "execution_count": 150,
   "metadata": {},
   "outputs": [
    {
     "name": "stdout",
     "output_type": "stream",
     "text": [
      "10\n",
      "10\n"
     ]
    }
   ],
   "source": [
    "print(sum(range(5),-1)) \n",
    "from numpy import * \n",
    "print(sum(range(5),-1)) "
   ]
  },
  {
   "cell_type": "markdown",
   "metadata": {},
   "source": [
    "27. Consider an integer vector Z, which of these expressions are legal? "
   ]
  },
  {
   "cell_type": "code",
   "execution_count": 162,
   "metadata": {},
   "outputs": [
    {
     "data": {
      "text/plain": [
       "array([0., 1., 2., 3., 4., 5., 6., 7., 8., 9.])"
      ]
     },
     "execution_count": 162,
     "metadata": {},
     "output_type": "execute_result"
    }
   ],
   "source": [
    "Z = np.arange(10)\n",
    "Z**Z  # Legal Expression\n",
    "2 << Z >> 2 # Legal Expression\n",
    "Z <- Z # Legal Expression\n",
    "1j*Z  # Legal Expression\n",
    "Z/1/1 # Legal Expression\n",
    "# Z<Z>Z # Illegal Expression because of ValueError: The truth value of an array with more than one element is ambiguous."
   ]
  },
  {
   "cell_type": "markdown",
   "metadata": {},
   "source": [
    "28. What are the result of the following expressions? "
   ]
  },
  {
   "cell_type": "code",
   "execution_count": 163,
   "metadata": {},
   "outputs": [
    {
     "name": "stdout",
     "output_type": "stream",
     "text": [
      "nan\n",
      "0\n",
      "[-2.14748365e+09]\n"
     ]
    },
    {
     "name": "stderr",
     "output_type": "stream",
     "text": [
      "C:\\Users\\NaveenKumarReddyNare\\anaconda3\\lib\\site-packages\\ipykernel_launcher.py:1: RuntimeWarning: invalid value encountered in true_divide\n",
      "  \"\"\"Entry point for launching an IPython kernel.\n",
      "C:\\Users\\NaveenKumarReddyNare\\anaconda3\\lib\\site-packages\\ipykernel_launcher.py:2: RuntimeWarning: divide by zero encountered in floor_divide\n",
      "  \n"
     ]
    }
   ],
   "source": [
    "print(np.array(0)  /  np.array(0))\n",
    "print(np.array(0) // np.array(0)) \n",
    "print(np.array([np.nan]).astype(int).astype(float)) "
   ]
  },
  {
   "cell_type": "markdown",
   "metadata": {},
   "source": [
    "29. How to round away from zero a float array ? "
   ]
  },
  {
   "cell_type": "code",
   "execution_count": 164,
   "metadata": {},
   "outputs": [
    {
     "data": {
      "text/plain": [
       "array([-5., -3.,  3.,  9., -1.,  7., -1., -7.,  3.,  9.])"
      ]
     },
     "execution_count": 164,
     "metadata": {},
     "output_type": "execute_result"
    }
   ],
   "source": [
    "x = np.random.uniform(-10, +10, 10)\n",
    "np.copysign(np.ceil(np.abs(x)), x)"
   ]
  },
  {
   "cell_type": "markdown",
   "metadata": {},
   "source": [
    "30. How to find common values between two arrays? "
   ]
  },
  {
   "cell_type": "code",
   "execution_count": 168,
   "metadata": {},
   "outputs": [
    {
     "data": {
      "text/plain": [
       "array([ 5,  6,  7,  8,  9, 10, 11, 12, 13, 14])"
      ]
     },
     "execution_count": 168,
     "metadata": {},
     "output_type": "execute_result"
    }
   ],
   "source": [
    "arr9 = np.arange(1,15)\n",
    "arr10 = np.arange(5,20)\n",
    "common_values = np.intersect1d(arr9,arr10)\n",
    "common_values"
   ]
  },
  {
   "cell_type": "markdown",
   "metadata": {},
   "source": [
    "31. How to sort an array by the nth column? "
   ]
  },
  {
   "cell_type": "code",
   "execution_count": 178,
   "metadata": {},
   "outputs": [
    {
     "data": {
      "text/plain": [
       "array([[31,  2,  6,  7],\n",
       "       [21, 17,  5, 14],\n",
       "       [11, 23,  9, 22]])"
      ]
     },
     "execution_count": 178,
     "metadata": {},
     "output_type": "execute_result"
    }
   ],
   "source": [
    "# Create a 2D array\n",
    "arr11 = np.array([[11, 23, 9, 22], [21, 17, 5, 14], [31, 2, 6, 7]])\n",
    "# Sort array by last column\n",
    "# sorted_array = array[array[row_index:column_index].argsort()]\n",
    "sorted_arr = arr11[arr11[:,-1].argsort()]\n",
    "sorted_arr"
   ]
  },
  {
   "cell_type": "markdown",
   "metadata": {},
   "source": [
    "32. Is the following expression true? "
   ]
  },
  {
   "cell_type": "code",
   "execution_count": 179,
   "metadata": {},
   "outputs": [
    {
     "name": "stderr",
     "output_type": "stream",
     "text": [
      "C:\\Users\\NaveenKumarReddyNare\\anaconda3\\lib\\site-packages\\ipykernel_launcher.py:1: RuntimeWarning: invalid value encountered in sqrt\n",
      "  \"\"\"Entry point for launching an IPython kernel.\n"
     ]
    },
    {
     "data": {
      "text/plain": [
       "False"
      ]
     },
     "execution_count": 179,
     "metadata": {},
     "output_type": "execute_result"
    }
   ],
   "source": [
    "np.sqrt(-1) == np.emath.sqrt(-1) "
   ]
  },
  {
   "cell_type": "markdown",
   "metadata": {},
   "source": [
    "33. How to get the dates of yesterday, today and tomorrow? "
   ]
  },
  {
   "cell_type": "code",
   "execution_count": 187,
   "metadata": {},
   "outputs": [
    {
     "name": "stdout",
     "output_type": "stream",
     "text": [
      "Yesterday's Date:  2020-10-31\n",
      "Today's Date:  2020-11-01\n",
      "Tomorrow's Date:  2020-11-02\n"
     ]
    }
   ],
   "source": [
    "print(\"Yesterday's Date: \",np.datetime64('today', 'D') - np.timedelta64(1, 'D'))\n",
    "print(\"Today's Date: \",np.datetime64('today', 'D'))\n",
    "print(\"Tomorrow's Date: \",np.datetime64('today', 'D') + np.timedelta64(1, 'D'))"
   ]
  },
  {
   "cell_type": "markdown",
   "metadata": {},
   "source": [
    "34. How to get all the dates corresponding to the month of July 2020?"
   ]
  },
  {
   "cell_type": "code",
   "execution_count": 203,
   "metadata": {},
   "outputs": [
    {
     "name": "stdout",
     "output_type": "stream",
     "text": [
      "['2020-07-01' '2020-07-02' '2020-07-03' '2020-07-04' '2020-07-05'\n",
      " '2020-07-06' '2020-07-07' '2020-07-08' '2020-07-09' '2020-07-10'\n",
      " '2020-07-11' '2020-07-12' '2020-07-13' '2020-07-14' '2020-07-15'\n",
      " '2020-07-16' '2020-07-17' '2020-07-18' '2020-07-19' '2020-07-20'\n",
      " '2020-07-21' '2020-07-22' '2020-07-23' '2020-07-24' '2020-07-25'\n",
      " '2020-07-26' '2020-07-27' '2020-07-28' '2020-07-29' '2020-07-30'\n",
      " '2020-07-31']\n"
     ]
    }
   ],
   "source": [
    "July_2020 = np.arange('2020-07', '2020-08', dtype='datetime64[D]')\n",
    "print(July_2020)"
   ]
  },
  {
   "cell_type": "markdown",
   "metadata": {},
   "source": [
    "35. How to compute ((A+B)*(-A/2)) in place (without copy)? "
   ]
  },
  {
   "cell_type": "code",
   "execution_count": 202,
   "metadata": {},
   "outputs": [
    {
     "data": {
      "text/plain": [
       "array([[-1.5, -1.5],\n",
       "       [-1.5, -1.5]])"
      ]
     },
     "execution_count": 202,
     "metadata": {},
     "output_type": "execute_result"
    }
   ],
   "source": [
    "A = np.ones((2,2))*1\n",
    "B = np.ones((2,2))*2\n",
    "C = np.ones((2,2))*3\n",
    "# Caluclate (A+B) and store output in B\n",
    "np.add(A,B,out=B)\n",
    "# Calculate A/2 and store output in A\n",
    "np.divide(A,2,out=A)\n",
    "# Calculate (-A/2) - change sign of values stored in A\n",
    "np.negative(A,out=A)\n",
    "# Calculate B * A = ((A+B)*(-A/2)) and store final output in A\n",
    "np.multiply(A,B,out=A)"
   ]
  },
  {
   "cell_type": "markdown",
   "metadata": {},
   "source": [
    "36. Extract the integer part of a random array using 5 different methods "
   ]
  },
  {
   "cell_type": "code",
   "execution_count": 207,
   "metadata": {},
   "outputs": [
    {
     "name": "stdout",
     "output_type": "stream",
     "text": [
      "[1.71821428 9.34695036 0.90371951 8.02421559 9.68572623 2.07989594\n",
      " 7.15785954 0.87508502 6.8322028  2.56044865]\n",
      "[1. 9. 0. 8. 9. 2. 7. 0. 6. 2.]\n",
      "[1. 9. 0. 8. 9. 2. 7. 0. 6. 2.]\n",
      "[1. 9. 0. 8. 9. 2. 7. 0. 6. 2.]\n",
      "[1 9 0 8 9 2 7 0 6 2]\n",
      "[1. 9. 0. 8. 9. 2. 7. 0. 6. 2.]\n"
     ]
    }
   ],
   "source": [
    "arr12 = np.random.uniform(0,10,10)\n",
    "# Random values in array\n",
    "print(arr12)\n",
    "# To extract integer part of randomly generated decimal values of a array\n",
    "# Method-1 \n",
    "print (arr12 - arr12%1)\n",
    "# Method-2 \n",
    "print (np.floor(arr12))\n",
    "# Method-3 \n",
    "print (np.ceil(arr12)-1)\n",
    "# Method-4 \n",
    "print (arr12.astype(int))\n",
    "# Method-5 \n",
    "print (np.trunc(arr12))"
   ]
  },
  {
   "cell_type": "markdown",
   "metadata": {},
   "source": [
    "37. Create a 5x5 matrix with row values ranging from 0 to 4 "
   ]
  },
  {
   "cell_type": "code",
   "execution_count": 210,
   "metadata": {},
   "outputs": [
    {
     "name": "stdout",
     "output_type": "stream",
     "text": [
      "[[0 1 2 3 4]\n",
      " [0 1 2 3 4]\n",
      " [0 1 2 3 4]\n",
      " [0 1 2 3 4]\n",
      " [0 1 2 3 4]]\n"
     ]
    }
   ],
   "source": [
    "matrix2 = np.zeros((5,5),dtype=int)\n",
    "matrix2 += np.arange(5)\n",
    "print(matrix2)"
   ]
  },
  {
   "cell_type": "markdown",
   "metadata": {},
   "source": [
    "38. Consider a generator function that generates 10 integers and use it to build an array "
   ]
  },
  {
   "cell_type": "code",
   "execution_count": 216,
   "metadata": {},
   "outputs": [
    {
     "name": "stdout",
     "output_type": "stream",
     "text": [
      "0\n",
      "[0. 1. 2. 3. 4. 5. 6. 7. 8. 9.]\n"
     ]
    }
   ],
   "source": [
    "def generate_ints():\n",
    "    for x in range(10):\n",
    "        yield x\n",
    "arr13 = np.fromiter(generate_ints(),dtype=float)\n",
    "print(arr13)"
   ]
  },
  {
   "cell_type": "markdown",
   "metadata": {},
   "source": [
    "39. Create a vector of size 10 with values ranging from 0 to 1, both excluded "
   ]
  },
  {
   "cell_type": "code",
   "execution_count": 243,
   "metadata": {},
   "outputs": [
    {
     "name": "stdout",
     "output_type": "stream",
     "text": [
      "[0.09090909 0.18181818 0.27272727 0.36363636 0.45454545 0.54545455\n",
      " 0.63636364 0.72727273 0.81818182 0.90909091]\n"
     ]
    }
   ],
   "source": [
    "arr14 = np.linspace(0,1,11,endpoint=False)[1:]\n",
    "print(arr14)"
   ]
  },
  {
   "cell_type": "markdown",
   "metadata": {},
   "source": [
    "40. Create a random vector of size 10 and sort it "
   ]
  },
  {
   "cell_type": "code",
   "execution_count": 242,
   "metadata": {},
   "outputs": [
    {
     "data": {
      "text/plain": [
       "array([2.83733068, 4.47601147, 4.96457789, 6.16189725, 6.29338275,\n",
       "       6.74361835, 6.76316397, 7.16733805, 7.59046393, 9.68880332])"
      ]
     },
     "execution_count": 242,
     "metadata": {},
     "output_type": "execute_result"
    }
   ],
   "source": [
    "sorted_vector = np.random.uniform(1,10,size=10)\n",
    "sorted_vector.sort()\n",
    "sorted_vector"
   ]
  },
  {
   "cell_type": "markdown",
   "metadata": {},
   "source": [
    "41. How to sum a small array faster than np.sum? "
   ]
  },
  {
   "cell_type": "code",
   "execution_count": 245,
   "metadata": {},
   "outputs": [
    {
     "data": {
      "text/plain": [
       "45"
      ]
     },
     "execution_count": 245,
     "metadata": {},
     "output_type": "execute_result"
    }
   ],
   "source": [
    "arr15 = np.arange(10)\n",
    "np.add.reduce(arr15)"
   ]
  },
  {
   "cell_type": "markdown",
   "metadata": {},
   "source": [
    "42. Consider two random array A and B, check if they are equal "
   ]
  },
  {
   "cell_type": "code",
   "execution_count": 248,
   "metadata": {},
   "outputs": [
    {
     "name": "stdout",
     "output_type": "stream",
     "text": [
      "False\n",
      "False\n"
     ]
    }
   ],
   "source": [
    "arr16 = np.random.randint(1,5,4)\n",
    "arr17 = np.random.randint(1,5,4)\n",
    "# numpy.array_equal(a1, a2, equal_nan=False)\n",
    "#   Returns True if two arrays have the same shape and elements, False otherwise.\n",
    "Equal = np.array_equal(arr16,arr17)\n",
    "print(Equal)\n",
    "# numpy.allclose(a, b, rtol=1e-05, atol=1e-08, equal_nan=False)\n",
    "#   Returns True if two arrays are element-wise equal within a tolerance.\n",
    "Equal = np.allclose(arr16,arr17)\n",
    "print(Equal)"
   ]
  },
  {
   "cell_type": "markdown",
   "metadata": {},
   "source": [
    "43. Make an array immutable (read-only) "
   ]
  },
  {
   "cell_type": "code",
   "execution_count": 251,
   "metadata": {},
   "outputs": [
    {
     "ename": "ValueError",
     "evalue": "assignment destination is read-only",
     "output_type": "error",
     "traceback": [
      "\u001b[1;31m---------------------------------------------------------------------------\u001b[0m",
      "\u001b[1;31mValueError\u001b[0m                                Traceback (most recent call last)",
      "\u001b[1;32m<ipython-input-251-d57d5bb35ffd>\u001b[0m in \u001b[0;36m<module>\u001b[1;34m\u001b[0m\n\u001b[0;32m      1\u001b[0m \u001b[0marr18\u001b[0m \u001b[1;33m=\u001b[0m \u001b[0mnp\u001b[0m\u001b[1;33m.\u001b[0m\u001b[0mones\u001b[0m\u001b[1;33m(\u001b[0m\u001b[1;36m10\u001b[0m\u001b[1;33m,\u001b[0m\u001b[0mdtype\u001b[0m\u001b[1;33m=\u001b[0m\u001b[0mint\u001b[0m\u001b[1;33m)\u001b[0m\u001b[1;33m\u001b[0m\u001b[1;33m\u001b[0m\u001b[0m\n\u001b[0;32m      2\u001b[0m \u001b[0marr18\u001b[0m\u001b[1;33m.\u001b[0m\u001b[0mflags\u001b[0m\u001b[1;33m.\u001b[0m\u001b[0mwriteable\u001b[0m \u001b[1;33m=\u001b[0m \u001b[1;32mFalse\u001b[0m\u001b[1;33m\u001b[0m\u001b[1;33m\u001b[0m\u001b[0m\n\u001b[1;32m----> 3\u001b[1;33m \u001b[0marr18\u001b[0m\u001b[1;33m[\u001b[0m\u001b[1;36m3\u001b[0m\u001b[1;33m]\u001b[0m \u001b[1;33m=\u001b[0m \u001b[1;36m1\u001b[0m\u001b[1;33m\u001b[0m\u001b[1;33m\u001b[0m\u001b[0m\n\u001b[0m",
      "\u001b[1;31mValueError\u001b[0m: assignment destination is read-only"
     ]
    }
   ],
   "source": [
    "arr18 = np.ones(10,dtype=int)\n",
    "arr18.flags.writeable = False\n",
    "arr18[3] = 1"
   ]
  },
  {
   "cell_type": "markdown",
   "metadata": {},
   "source": [
    "44. .Consider a random 10x2 matrix representing cartesian coordinates, convert them to polar coordinates"
   ]
  },
  {
   "cell_type": "code",
   "execution_count": 254,
   "metadata": {},
   "outputs": [
    {
     "name": "stdout",
     "output_type": "stream",
     "text": [
      "[[0.28720066 0.95206337]\n",
      " [0.09897905 0.66571003]\n",
      " [0.9723001  0.75872826]\n",
      " [0.10657502 0.95911941]\n",
      " [0.52981174 0.65710104]\n",
      " [0.09998062 0.42805684]\n",
      " [0.185341   0.0933258 ]\n",
      " [0.15500324 0.1044097 ]\n",
      " [0.50130862 0.30425953]\n",
      " [0.99467573 0.03151882]]\n",
      "[0.99443898 0.67302801 1.2333029  0.96502243 0.84408664 0.43957796\n",
      " 0.20751143 0.18688871 0.5864164  0.99517498]\n",
      "[1.27781612 1.4231957  0.66263995 1.46013273 0.89223385 1.34134132\n",
      " 0.46647214 0.59278511 0.54549993 0.03167693]\n"
     ]
    }
   ],
   "source": [
    "arr19 = np.random.random((10,2))\n",
    "print(arr19)\n",
    "X,Y = arr19[:,0], arr19[:,1]\n",
    "R = np.sqrt(X**2+Y**2)\n",
    "T = np.arctan2(Y,X)\n",
    "print(R)\n",
    "print(T)"
   ]
  },
  {
   "cell_type": "markdown",
   "metadata": {},
   "source": [
    "45. Create random vector of size 10 and replace the maximum value by 0 "
   ]
  },
  {
   "cell_type": "code",
   "execution_count": 270,
   "metadata": {},
   "outputs": [
    {
     "name": "stdout",
     "output_type": "stream",
     "text": [
      "[0.08686261 0.         0.20708498 0.75761855 0.24293455 0.60936264\n",
      " 0.41323552 0.13634939 0.79793658 0.22997741]\n"
     ]
    }
   ],
   "source": [
    "array = np.random.random((10))\n",
    "array[array.argmax()] = 0\n",
    "print(array)"
   ]
  },
  {
   "cell_type": "markdown",
   "metadata": {},
   "source": [
    "46. Given two arrays, X and Y, construct the Cauchy matrix C (Cij =1/(xi - yj)) "
   ]
  },
  {
   "cell_type": "code",
   "execution_count": 271,
   "metadata": {},
   "outputs": [
    {
     "name": "stdout",
     "output_type": "stream",
     "text": [
      "3638.163637117973\n"
     ]
    }
   ],
   "source": [
    "X = np.arange(8)\n",
    "Y = X + 0.5\n",
    "C = 1.0 / np.subtract.outer(X, Y)\n",
    "print(np.linalg.det(C))"
   ]
  },
  {
   "cell_type": "markdown",
   "metadata": {},
   "source": [
    "47. How to read the following file? \n",
    " \n",
    "1, 2, 3, 4, 5 \n",
    "6, , , 7, 8\n",
    ", , 9,10,11 \n",
    " "
   ]
  },
  {
   "cell_type": "code",
   "execution_count": 272,
   "metadata": {},
   "outputs": [
    {
     "name": "stdout",
     "output_type": "stream",
     "text": [
      "[[ 1  2  3  4  5]\n",
      " [ 6 -1 -1  7  8]\n",
      " [-1 -1  9 10 11]]\n"
     ]
    }
   ],
   "source": [
    "from io import StringIO# Fake file\n",
    "str = StringIO('''1, 2, 3, 4, 5      \n",
    "                6,  ,  , 7, 8      \n",
    "                ,  , 9,10,11''')\n",
    "Z = np.genfromtxt(str, delimiter=\",\", dtype=np.int)\n",
    "print(Z)"
   ]
  },
  {
   "cell_type": "markdown",
   "metadata": {},
   "source": [
    "48. Subtract the mean of each row of a matrix "
   ]
  },
  {
   "cell_type": "code",
   "execution_count": 285,
   "metadata": {},
   "outputs": [
    {
     "data": {
      "text/plain": [
       "matrix([[-1.,  0.,  1.],\n",
       "        [-1.,  0.,  1.],\n",
       "        [-1.,  0.,  1.]])"
      ]
     },
     "execution_count": 285,
     "metadata": {},
     "output_type": "execute_result"
    }
   ],
   "source": [
    "A = np.matrix(np.arange(1,10),dtype=int).reshape(3,3)\n",
    "B = A - A.mean(axis=1)\n",
    "B"
   ]
  },
  {
   "cell_type": "markdown",
   "metadata": {},
   "source": [
    "49. How to tell if a given 2D array has null columns? "
   ]
  },
  {
   "cell_type": "code",
   "execution_count": 286,
   "metadata": {},
   "outputs": [
    {
     "name": "stdout",
     "output_type": "stream",
     "text": [
      "False\n"
     ]
    }
   ],
   "source": [
    "arr21 = np.random.randint(0,3,(3,10))\n",
    "print((~arr21.any(axis=0)).any())"
   ]
  },
  {
   "cell_type": "markdown",
   "metadata": {},
   "source": [
    "50. How to swap two rows of an array? "
   ]
  },
  {
   "cell_type": "code",
   "execution_count": 288,
   "metadata": {},
   "outputs": [
    {
     "name": "stdout",
     "output_type": "stream",
     "text": [
      "Before Swap: \n",
      " [[ 0  1  2  3  4]\n",
      " [ 5  6  7  8  9]\n",
      " [10 11 12 13 14]\n",
      " [15 16 17 18 19]\n",
      " [20 21 22 23 24]]\n",
      "After Swap: \n",
      " [[ 5  6  7  8  9]\n",
      " [ 0  1  2  3  4]\n",
      " [10 11 12 13 14]\n",
      " [15 16 17 18 19]\n",
      " [20 21 22 23 24]]\n"
     ]
    }
   ],
   "source": [
    "arr22 = np.arange(25).reshape(5,5)\n",
    "print(\"Before Swap: \\n\",arr22)\n",
    "arr22[[0,1]] = arr22[[1,0]]\n",
    "print(\"After Swap: \\n\",arr22)"
   ]
  },
  {
   "cell_type": "code",
   "execution_count": null,
   "metadata": {},
   "outputs": [],
   "source": []
  }
 ],
 "metadata": {
  "kernelspec": {
   "display_name": "Python 3",
   "language": "python",
   "name": "python3"
  },
  "language_info": {
   "codemirror_mode": {
    "name": "ipython",
    "version": 3
   },
   "file_extension": ".py",
   "mimetype": "text/x-python",
   "name": "python",
   "nbconvert_exporter": "python",
   "pygments_lexer": "ipython3",
   "version": "3.7.6"
  }
 },
 "nbformat": 4,
 "nbformat_minor": 4
}
