{
 "cells": [
  {
   "cell_type": "markdown",
   "metadata": {},
   "source": [
    "Fibonacci series ---> 0,1,1,2,3,5,8,13......"
   ]
  },
  {
   "cell_type": "code",
   "execution_count": null,
   "metadata": {},
   "outputs": [],
   "source": []
  },
  {
   "cell_type": "code",
   "execution_count": 39,
   "metadata": {},
   "outputs": [],
   "source": [
    "def fibonacci(n):\n",
    "    print(n)\n",
    "    if n <= 0:\n",
    "        print(\"invalid input\")\n",
    "    elif n == 1:\n",
    "        return 0\n",
    "    elif n == 2:\n",
    "        return 1\n",
    "    else:\n",
    "        return fibonacci(n-1) + fibonacci(n-2) # when n = 3 then fibonacci(3-1) + fibonacci(3-2) = fibonacci(2) + fibonacci(1)"
   ]
  },
  {
   "cell_type": "code",
   "execution_count": null,
   "metadata": {},
   "outputs": [],
   "source": [
    "n = 100\n",
    "result = fibonacci(n)\n",
    "print(result)"
   ]
  },
  {
   "cell_type": "markdown",
   "metadata": {},
   "source": [
    "Prime numbers ---> 2,3,5,7,11....."
   ]
  },
  {
   "cell_type": "code",
   "execution_count": 16,
   "metadata": {},
   "outputs": [],
   "source": [
    "def isPrime(number):\n",
    "    if number > 1:\n",
    "        for i in range(2,number):\n",
    "            print(i)\n",
    "            # check if after dividing all number from 2 to number_specified - 1 gives you back remainder 0 (means its divisible by that number)\n",
    "            if number % i == 0:\n",
    "                print(\"is not prime number\")\n",
    "                break\n",
    "        else:\n",
    "            print(\"is prime number\")\n",
    "    else:\n",
    "        print(\"Since the number is less than or equal to 1, it is not a prime number\")"
   ]
  },
  {
   "cell_type": "code",
   "execution_count": 37,
   "metadata": {},
   "outputs": [],
   "source": [
    "def isprime(number):\n",
    "    if number > 1:\n",
    "        for i in range(1,number):\n",
    "            print (i)\n",
    "            if number%i == 0:\n",
    "                print (\"the number is not a prime number\")\n",
    "                break\n",
    "            else:\n",
    "                print(\"{} is a prime number\". format(number))\n",
    "    else:\n",
    "        pass"
   ]
  },
  {
   "cell_type": "code",
   "execution_count": 38,
   "metadata": {},
   "outputs": [
    {
     "name": "stdout",
     "output_type": "stream",
     "text": [
      "1\n",
      "the number is not a prime number\n"
     ]
    }
   ],
   "source": [
    "isprime(3) # a number which is not divisible by any number other than itself and 1 is known as prime number "
   ]
  },
  {
   "cell_type": "code",
   "execution_count": 83,
   "metadata": {},
   "outputs": [],
   "source": [
    "def fabonacci(a):\n",
    "    if a == 0:\n",
    "        print(\"Invalid input\")\n",
    "    elif a == 1:\n",
    "        print(0)\n",
    "    elif a == 2:\n",
    "        print(0)\n",
    "        print(1)\n",
    "    else:\n",
    "        x = 0\n",
    "        y = 1\n",
    "        print(x)\n",
    "        print(y)\n",
    "        for i in range(0,a):\n",
    "            if i <= 1:\n",
    "                z = i\n",
    "            else:\n",
    "                z = x + y \n",
    "                x = y\n",
    "                y = z\n",
    "                print (z)"
   ]
  },
  {
   "cell_type": "code",
   "execution_count": 85,
   "metadata": {},
   "outputs": [
    {
     "name": "stdout",
     "output_type": "stream",
     "text": [
      "0\n",
      "1\n",
      "1\n",
      "2\n",
      "3\n",
      "5\n",
      "8\n",
      "13\n",
      "21\n",
      "34\n"
     ]
    }
   ],
   "source": [
    "fabonacci(10)"
   ]
  },
  {
   "cell_type": "raw",
   "metadata": {},
   "source": [
    "Knapsack"
   ]
  },
  {
   "cell_type": "code",
   "execution_count": 6,
   "metadata": {},
   "outputs": [],
   "source": [
    "def knapSack(bag_weight, weight_array, value_array, n):\n",
    "    if n == 0 or bag_weight == 0 :\n",
    "        return 0\n",
    "    if (weight_array[n-1] > bag_weight):\n",
    "        return knapSack(bag_weight, weight_array, value_array, n-1)\n",
    "    else:\n",
    "        return max(value_array[n-1] + knapSack(bag_weight-weight_array[n-1], weight_array, value_array, n-1), knapSack(bag_weight, weight_array, value_array, n-1))\n"
   ]
  },
  {
   "cell_type": "code",
   "execution_count": 7,
   "metadata": {},
   "outputs": [
    {
     "name": "stdout",
     "output_type": "stream",
     "text": [
      "350\n"
     ]
    }
   ],
   "source": [
    "\n",
    "value_array = [50,100,150,200] # watch, mobile, laptop, Highend computer\n",
    "weight_array = [8,16,32,40]  # watch, mobile, laptop, Highend computer\n",
    "bag_weight = 64\n",
    "n = 4\n",
    "print (knapSack(bag_weight, weight_array, value_array, n))"
   ]
  },
  {
   "cell_type": "code",
   "execution_count": null,
   "metadata": {},
   "outputs": [],
   "source": []
  }
 ],
 "metadata": {
  "kernelspec": {
   "display_name": "Python 3",
   "language": "python",
   "name": "python3"
  },
  "language_info": {
   "codemirror_mode": {
    "name": "ipython",
    "version": 3
   },
   "file_extension": ".py",
   "mimetype": "text/x-python",
   "name": "python",
   "nbconvert_exporter": "python",
   "pygments_lexer": "ipython3",
   "version": "3.7.0"
  }
 },
 "nbformat": 4,
 "nbformat_minor": 4
}
